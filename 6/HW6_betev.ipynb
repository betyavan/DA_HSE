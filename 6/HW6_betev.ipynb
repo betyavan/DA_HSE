{
 "cells": [
  {
   "cell_type": "markdown",
   "metadata": {},
   "source": [
    "# Домашнее задание"
   ]
  },
  {
   "cell_type": "code",
   "execution_count": 10,
   "metadata": {},
   "outputs": [],
   "source": [
    "import scipy.stats as sps\n",
    "import numpy as np"
   ]
  },
  {
   "cell_type": "markdown",
   "metadata": {},
   "source": [
    "Задание 1 [5 баллов]. Дана функция $f(x) = C * exp(cos(x))*sin(x)$ на интервале $I\\{x \\in [0, \\pi] = [a, b]\\}$.\n",
    "При этом $f(x) = 0$ вне указанного интервала"
   ]
  },
  {
   "cell_type": "markdown",
   "metadata": {},
   "source": [
    "1. Определите значение константы C, при которой данная функция является плотностью распределения.\n",
    "2. Изобразите графически функцию плотности.\n",
    "3. Рассчитайте формулу для функции распределения и изобразите её графически.\n",
    "4. Рассчитайте значение математического ожидания (подсказка - может помочь scipy.integrate)\n",
    "5. Проверьте центральную предельную теорему для данного распределения."
   ]
  },
  {
   "cell_type": "markdown",
   "metadata": {},
   "source": [
    "### 1"
   ]
  },
  {
   "cell_type": "markdown",
   "metadata": {},
   "source": [
    "По уловию нормировки\n",
    "\n",
    "$$\\int_{-\\infty}^{+\\infty}C \\cdot f(x) = C\\cdot\\int_{-\\infty}^{+\\infty}f(x) = C\\cdot\\int_{0}^{\\pi}e^{cos(x)}sin(x)dx = -C\\cdot\\int_{0}^{\\pi}e^{cos(x)}d cos(x) = -C\\cdot e^{cos(x)}|_{0}^{\\pi} = C\\cdot(e - \\frac{1}{e}) \\approx C\\cdot2.3504 = 1$$\n",
    "\n",
    "$$C = 0.4255$$"
   ]
  },
  {
   "cell_type": "markdown",
   "metadata": {},
   "source": [
    "### 2"
   ]
  },
  {
   "cell_type": "code",
   "execution_count": 44,
   "metadata": {},
   "outputs": [],
   "source": [
    "import matplotlib.pyplot as plt"
   ]
  },
  {
   "cell_type": "code",
   "execution_count": 51,
   "metadata": {},
   "outputs": [],
   "source": [
    "def f(x):\n",
    "    if x < 0:\n",
    "        return 0\n",
    "    elif x <= np.pi:\n",
    "        return 0.4255 * np.exp(np.cos(x))*np.sin(x)\n",
    "    return 0"
   ]
  },
  {
   "cell_type": "code",
   "execution_count": 54,
   "metadata": {},
   "outputs": [
    {
     "data": {
      "image/png": "[encoded data removed]",
      "text/plain": [
       "<Figure size 432x288 with 1 Axes>"
      ]
     },
     "metadata": {
      "needs_background": "light"
     },
     "output_type": "display_data"
    }
   ],
   "source": [
    "x = np.linspace(-2, 5, 50)\n",
    "\n",
    "y = [f(i) for i in x]\n",
    "plt.grid()\n",
    "plt.xticks([0, np.pi], ['0', '$\\pi$'])\n",
    "plt.plot(x, y)\n",
    "plt.title('Density Function');"
   ]
  },
  {
   "cell_type": "markdown",
   "metadata": {},
   "source": [
    "### 3"
   ]
  },
  {
   "cell_type": "markdown",
   "metadata": {},
   "source": [
    "$$F(x) = \\int_{-\\infty}^{x}f(x)dx$$\n",
    "\n",
    "$$\\begin{equation*}\n",
    "F(x) = \n",
    " \\begin{cases}\n",
    "   \\int_{-\\infty}^{x}0dx = 0 &, x\\leq 0 \\\\\n",
    "   \\int_{-\\infty}^{0}0dx+\\int_{0}^{x}0.4255e^{cos(x)}sin(x)dx = 0.4255(e-e^{cos(x)}) &, 0 < x \\leq \\pi \\\\\n",
    "   \\int_{-\\infty}^{0}0dx+\\int_{0}^{\\pi}0.4255e^{cos(x)}sin(x)dx + \\int_{\\pi}^{x}0dx = 1 & x > \\pi\n",
    " \\end{cases}\n",
    "\\end{equation*}$$"
   ]
  },
  {
   "cell_type": "code",
   "execution_count": 58,
   "metadata": {},
   "outputs": [],
   "source": [
    "def F(x):\n",
    "    if x <= 0:\n",
    "        return 0\n",
    "    elif x <= np.pi:\n",
    "        return 0.4255*(np.exp(1) - np.exp(np.cos(x)))\n",
    "    return 1"
   ]
  },
  {
   "cell_type": "code",
   "execution_count": 59,
   "metadata": {},
   "outputs": [
    {
     "data": {
      "image/png": "[encoded data removed]",
      "text/plain": [
       "<Figure size 432x288 with 1 Axes>"
      ]
     },
     "metadata": {
      "needs_background": "light"
     },
     "output_type": "display_data"
    }
   ],
   "source": [
    "x = np.linspace(-2, 5, 50)\n",
    "\n",
    "y = [F(i) for i in x]\n",
    "plt.grid()\n",
    "plt.xticks([0, np.pi], ['0', '$\\pi$'])\n",
    "plt.plot(x, y)\n",
    "plt.title('Destribution Function');"
   ]
  },
  {
   "cell_type": "markdown",
   "metadata": {},
   "source": [
    "### 4"
   ]
  },
  {
   "cell_type": "markdown",
   "metadata": {},
   "source": [
    "$$M[X] = \\int_{-\\infty}^{+\\infty}xf(x)dx$$"
   ]
  },
  {
   "cell_type": "code",
   "execution_count": 60,
   "metadata": {},
   "outputs": [],
   "source": [
    "from scipy import integrate"
   ]
  },
  {
   "cell_type": "code",
   "execution_count": 61,
   "metadata": {},
   "outputs": [
    {
     "data": {
      "text/plain": [
       "(1.2006486300094457, 8.728452687178591e-11)"
      ]
     },
     "execution_count": 61,
     "metadata": {},
     "output_type": "execute_result"
    }
   ],
   "source": [
    "integrate.quad(lambda x: x*f(x), 0, np.pi)"
   ]
  },
  {
   "cell_type": "markdown",
   "metadata": {},
   "source": [
    "$$M[X] = 1.20065$$"
   ]
  },
  {
   "cell_type": "markdown",
   "metadata": {},
   "source": [
    "### 5"
   ]
  },
  {
   "cell_type": "code",
   "execution_count": 72,
   "metadata": {},
   "outputs": [],
   "source": [
    "import seaborn as sns"
   ]
  },
  {
   "cell_type": "code",
   "execution_count": 71,
   "metadata": {},
   "outputs": [
    {
     "data": {
      "text/plain": [
       "array([1.23463481, 0.25145252, 0.57064141, 0.66758841, 2.8119577 ])"
      ]
     },
     "execution_count": 71,
     "metadata": {},
     "output_type": "execute_result"
    }
   ],
   "source": [
    "class my_gen(sps.rv_continuous):\n",
    "    def _pdf(self, x):\n",
    "        return 0.4255 * np.exp(np.cos(x))*np.sin(x)\n",
    "    \n",
    "my_gen(a=0, b=np.pi).rvs(size=5)"
   ]
  },
  {
   "cell_type": "code",
   "execution_count": 84,
   "metadata": {},
   "outputs": [
    {
     "name": "stdout",
     "output_type": "stream",
     "text": [
      "Wall time: 1min 29s\n"
     ]
    }
   ],
   "source": [
    "%%time\n",
    "avg_list = []\n",
    "for _ in range(200):\n",
    "    avg = my_gen(a=0, b=np.pi).rvs(size=300).mean()\n",
    "    avg_list.append(avg)"
   ]
  },
  {
   "cell_type": "code",
   "execution_count": 85,
   "metadata": {},
   "outputs": [
    {
     "name": "stderr",
     "output_type": "stream",
     "text": [
      "D:\\anaconda\\lib\\site-packages\\seaborn\\distributions.py:2619: FutureWarning: `distplot` is a deprecated function and will be removed in a future version. Please adapt your code to use either `displot` (a figure-level function with similar flexibility) or `histplot` (an axes-level function for histograms).\n",
      "  warnings.warn(msg, FutureWarning)\n"
     ]
    },
    {
     "data": {
      "image/png": "[encoded data removed]",
      "text/plain": [
       "<Figure size 432x288 with 1 Axes>"
      ]
     },
     "metadata": {
      "needs_background": "light"
     },
     "output_type": "display_data"
    }
   ],
   "source": [
    "sns.distplot(avg_list);"
   ]
  },
  {
   "cell_type": "code",
   "execution_count": null,
   "metadata": {},
   "outputs": [],
   "source": []
  },
  {
   "cell_type": "markdown",
   "metadata": {},
   "source": [
    "Задание 2 [5 баллов]. Сгенерируйте 3 выборки из 3 различных распределений размерностью 1000, 50 000, 750 000"
   ]
  },
  {
   "cell_type": "markdown",
   "metadata": {},
   "source": [
    "1. Рассчитайте основные статистические показатели для каждой из выборок и сравните их с теоретическими показателями выбранных вами распределений. Должны быть посчитаны:\n",
    "- среднее\n",
    "- дисперсия\n",
    "2. Проверьте критерий Колмогорова для 3 выборок.\n",
    "3. Для каждой пары выборок (всего будет 3) проверьте критерий Манна-Уитни."
   ]
  },
  {
   "cell_type": "markdown",
   "metadata": {},
   "source": [
    "### 1"
   ]
  },
  {
   "cell_type": "markdown",
   "metadata": {},
   "source": [
    "#### бета"
   ]
  },
  {
   "cell_type": "code",
   "execution_count": 151,
   "metadata": {},
   "outputs": [
    {
     "name": "stdout",
     "output_type": "stream",
     "text": [
      "бета\n",
      "Ожидаемое матожидание: 0.375\n",
      "Ожидаемая дисперсия: 0.026041666666666668\n",
      "\n",
      "Размер выборки: 1000\n",
      "\tВыборочное среденее: 0.367\n",
      "\tВыборочная дисперсия: 0.027\n",
      "\n",
      "Размер выборки: 50000\n",
      "\tВыборочное среденее: 0.374\n",
      "\tВыборочная дисперсия: 0.026\n",
      "\n",
      "Размер выборки: 750000\n",
      "\tВыборочное среденее: 0.375\n",
      "\tВыборочная дисперсия: 0.026\n"
     ]
    }
   ],
   "source": [
    "a, b = 3, 5\n",
    "stat1 = sps.beta(a, b)\n",
    "\n",
    "print('бета')\n",
    "print(f\"Ожидаемое матожидание: {a / (a+b)}\")\n",
    "print(f\"Ожидаемая дисперсия: {(a*b / (a+b)**2 / (a+b+1))}\")\n",
    "\n",
    "for s in [1000, 50000, 750000]:\n",
    "    sample = stat1.rvs(size=s)\n",
    "    print(f\"\\nРазмер выборки: {s}\")\n",
    "    print('\\tВыборочное среденее: %.3f' % sample.mean())\n",
    "    print('\\tВыборочная дисперсия: %.3f' % sample.var())"
   ]
  },
  {
   "cell_type": "markdown",
   "metadata": {},
   "source": [
    "#### Логнормальное"
   ]
  },
  {
   "cell_type": "code",
   "execution_count": 148,
   "metadata": {},
   "outputs": [
    {
     "name": "stdout",
     "output_type": "stream",
     "text": [
      "Логнормальное\n",
      "Ожидаемое матожидание: 7.38905609893065\n",
      "Ожидаемая дисперсия: 2926.3598370085842\n",
      "\n",
      "Размер выборки: 1000\n",
      "\tВыборочное среденее: 7.426\n",
      "\tВыборочная дисперсия: 1145.401\n",
      "\n",
      "Размер выборки: 50000\n",
      "\tВыборочное среденее: 6.935\n",
      "\tВыборочная дисперсия: 1520.885\n",
      "\n",
      "Размер выборки: 750000\n",
      "\tВыборочное среденее: 7.456\n",
      "\tВыборочная дисперсия: 3303.001\n"
     ]
    }
   ],
   "source": [
    "sigma = 2\n",
    "stat2 = sps.lognorm(sigma)\n",
    "\n",
    "print('Логнормальное')\n",
    "print(f\"Ожидаемое матожидание: {np.exp(sigma**2 / 2)}\")\n",
    "print(f\"Ожидаемая дисперсия: {np.exp(2*sigma**2) - np.exp(sigma**2)}\")\n",
    "\n",
    "for s in [1000, 50000, 750000]:\n",
    "    sample = stat2.rvs(size=s)\n",
    "    print(f\"\\nРазмер выборки: {s}\")\n",
    "    print('\\tВыборочное среденее: %.3f' % sample.mean())\n",
    "    print('\\tВыборочная дисперсия: %.3f' % sample.var())"
   ]
  },
  {
   "cell_type": "markdown",
   "metadata": {},
   "source": [
    "#### Нормальное"
   ]
  },
  {
   "cell_type": "code",
   "execution_count": 149,
   "metadata": {},
   "outputs": [
    {
     "name": "stdout",
     "output_type": "stream",
     "text": [
      "Нормальное\n",
      "Ожидаемое матожидание: 10\n",
      "Ожидаемая дисперсия: 400\n",
      "\n",
      "Размер выборки: 1000\n",
      "\tВыборочное среденее: 9.486\n",
      "\tВыборочная дисперсия: 419.303\n",
      "\n",
      "Размер выборки: 50000\n",
      "\tВыборочное среденее: 10.076\n",
      "\tВыборочная дисперсия: 401.843\n",
      "\n",
      "Размер выборки: 750000\n",
      "\tВыборочное среденее: 9.958\n",
      "\tВыборочная дисперсия: 400.172\n"
     ]
    }
   ],
   "source": [
    "loc, scale = 10, 20\n",
    "stat3 = sps.norm(loc=loc, scale=scale)\n",
    "\n",
    "print('Нормальное')\n",
    "print(f\"Ожидаемое матожидание: {loc}\")\n",
    "print(f\"Ожидаемая дисперсия: {scale**2}\")\n",
    "\n",
    "for s in [1000, 50000, 750000]:\n",
    "    sample = stat3.rvs(size=s)\n",
    "    print(f\"\\nРазмер выборки: {s}\")\n",
    "    print('\\tВыборочное среденее: %.3f' % sample.mean())\n",
    "    print('\\tВыборочная дисперсия: %.3f' % sample.var())"
   ]
  },
  {
   "cell_type": "markdown",
   "metadata": {},
   "source": [
    "### 2"
   ]
  },
  {
   "cell_type": "code",
   "execution_count": 103,
   "metadata": {},
   "outputs": [],
   "source": [
    "from scipy.stats import kstest"
   ]
  },
  {
   "cell_type": "markdown",
   "metadata": {},
   "source": [
    "#### Проверка для бета"
   ]
  },
  {
   "cell_type": "code",
   "execution_count": 150,
   "metadata": {},
   "outputs": [
    {
     "data": {
      "text/plain": [
       "KstestResult(statistic=0.5386878045035642, pvalue=1.1192043261762322e-27)"
      ]
     },
     "execution_count": 150,
     "metadata": {},
     "output_type": "execute_result"
    }
   ],
   "source": [
    "data = stat1.rvs(size=100)\n",
    "kstest(data, \"norm\")"
   ]
  },
  {
   "cell_type": "markdown",
   "metadata": {},
   "source": [
    "p << 0.05 => точно не норамальное"
   ]
  },
  {
   "cell_type": "code",
   "execution_count": 152,
   "metadata": {},
   "outputs": [
    {
     "data": {
      "text/plain": [
       "KstestResult(statistic=0.03588140881462498, pvalue=0.5284998080716917)"
      ]
     },
     "execution_count": 152,
     "metadata": {},
     "output_type": "execute_result"
    }
   ],
   "source": [
    "data = stat1.rvs(size=500)\n",
    "kstest(data, \"beta\", [3, 5])"
   ]
  },
  {
   "cell_type": "markdown",
   "metadata": {},
   "source": [
    "#### Проверка для логнормального "
   ]
  },
  {
   "cell_type": "code",
   "execution_count": 153,
   "metadata": {},
   "outputs": [
    {
     "data": {
      "text/plain": [
       "KstestResult(statistic=0.5054950155155687, pvalue=3.429308289615299e-24)"
      ]
     },
     "execution_count": 153,
     "metadata": {},
     "output_type": "execute_result"
    }
   ],
   "source": [
    "data = stat2.rvs(size=100)\n",
    "kstest(data, \"norm\")"
   ]
  },
  {
   "cell_type": "markdown",
   "metadata": {},
   "source": [
    "p << 0.05 => точно не норамальное"
   ]
  },
  {
   "cell_type": "code",
   "execution_count": 154,
   "metadata": {},
   "outputs": [
    {
     "data": {
      "text/plain": [
       "KstestResult(statistic=0.04918506460139893, pvalue=0.959118132345253)"
      ]
     },
     "execution_count": 154,
     "metadata": {},
     "output_type": "execute_result"
    }
   ],
   "source": [
    "data = stat2.rvs(size=100)\n",
    "kstest(data, \"lognorm\", [2])"
   ]
  },
  {
   "cell_type": "markdown",
   "metadata": {},
   "source": [
    "#### Проверка для норального "
   ]
  },
  {
   "cell_type": "code",
   "execution_count": 155,
   "metadata": {},
   "outputs": [
    {
     "data": {
      "text/plain": [
       "KstestResult(statistic=0.02425084791845533, pvalue=0.92333349068235)"
      ]
     },
     "execution_count": 155,
     "metadata": {},
     "output_type": "execute_result"
    }
   ],
   "source": [
    "data = stat3.rvs(size=500)\n",
    "kstest(data, \"norm\", [10, 20])"
   ]
  },
  {
   "cell_type": "markdown",
   "metadata": {},
   "source": [
    "### 3"
   ]
  },
  {
   "cell_type": "markdown",
   "metadata": {},
   "source": [
    "#### Бета и логнормальное"
   ]
  },
  {
   "cell_type": "code",
   "execution_count": 160,
   "metadata": {},
   "outputs": [],
   "source": [
    "data1 = stat1.rvs(size=500)\n",
    "data2 = stat2.rvs(size=500)"
   ]
  },
  {
   "cell_type": "code",
   "execution_count": 161,
   "metadata": {},
   "outputs": [
    {
     "data": {
      "text/plain": [
       "MannwhitneyuResult(statistic=64795.0, pvalue=1.0912495285524584e-39)"
      ]
     },
     "execution_count": 161,
     "metadata": {},
     "output_type": "execute_result"
    }
   ],
   "source": [
    "sps.mannwhitneyu(data1, data2)"
   ]
  },
  {
   "cell_type": "markdown",
   "metadata": {},
   "source": [
    "меньше 0.05, можем отвергнуть гипотезу"
   ]
  },
  {
   "cell_type": "markdown",
   "metadata": {},
   "source": [
    "#### нормальное и логнормальное"
   ]
  },
  {
   "cell_type": "code",
   "execution_count": 162,
   "metadata": {},
   "outputs": [],
   "source": [
    "data1 = stat3.rvs(size=500)\n",
    "data2 = stat2.rvs(size=500)"
   ]
  },
  {
   "cell_type": "code",
   "execution_count": 163,
   "metadata": {},
   "outputs": [
    {
     "data": {
      "text/plain": [
       "MannwhitneyuResult(statistic=148488.0, pvalue=2.699792802027844e-07)"
      ]
     },
     "execution_count": 163,
     "metadata": {},
     "output_type": "execute_result"
    }
   ],
   "source": [
    "sps.mannwhitneyu(data1, data2)"
   ]
  },
  {
   "cell_type": "markdown",
   "metadata": {},
   "source": [
    "меньше 0.05, можем отвергнуть гипотезу"
   ]
  },
  {
   "cell_type": "markdown",
   "metadata": {},
   "source": [
    "#### Бета и нормальное"
   ]
  },
  {
   "cell_type": "code",
   "execution_count": 164,
   "metadata": {},
   "outputs": [],
   "source": [
    "data1 = stat1.rvs(size=500)\n",
    "data2 = stat3.rvs(size=500)"
   ]
  },
  {
   "cell_type": "code",
   "execution_count": 165,
   "metadata": {},
   "outputs": [
    {
     "data": {
      "text/plain": [
       "MannwhitneyuResult(statistic=81061.0, pvalue=6.479394656536171e-22)"
      ]
     },
     "execution_count": 165,
     "metadata": {},
     "output_type": "execute_result"
    }
   ],
   "source": [
    "sps.mannwhitneyu(data1, data2)"
   ]
  },
  {
   "cell_type": "markdown",
   "metadata": {},
   "source": [
    "меньше 0.05, можем отвергнуть гипотезу"
   ]
  },
  {
   "cell_type": "code",
   "execution_count": null,
   "metadata": {},
   "outputs": [],
   "source": []
  }
 ],
 "metadata": {
  "kernelspec": {
   "display_name": "Python 3 (ipykernel)",
   "language": "python",
   "name": "python3"
  },
  "language_info": {
   "codemirror_mode": {
    "name": "ipython",
    "version": 3
   },
   "file_extension": ".py",
   "mimetype": "text/x-python",
   "name": "python",
   "nbconvert_exporter": "python",
   "pygments_lexer": "ipython3",
   "version": "3.9.7"
  }
 },
 "nbformat": 4,
 "nbformat_minor": 4
}
