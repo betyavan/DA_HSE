{
 "cells": [
  {
   "cell_type": "markdown",
   "id": "d9f63fc3",
   "metadata": {},
   "source": [
    "Задание 1 [4 балла].\n",
    "\n",
    "Напишите функцию, на вход который поступает название города и которая выдает прогноз погоды на сегодня и завтра.\n",
    "В прогноз включить температуру, осадки, влажность и скорость ветра."
   ]
  },
  {
   "cell_type": "code",
   "execution_count": 1,
   "id": "de3e3c95",
   "metadata": {},
   "outputs": [],
   "source": [
    "import requests\n",
    "from bs4 import BeautifulSoup"
   ]
  },
  {
   "cell_type": "code",
   "execution_count": 14,
   "id": "7140ccf4",
   "metadata": {},
   "outputs": [],
   "source": [
    "def give_weather(city_name: str):\n",
    "    weather_url = f\"https://yandex.ru/pogoda/{city_name.strip().lower()}/details/10-day-weather?via=ms\"\n",
    "    weather_response = requests.get(weather_url)\n",
    "    weather_soup = BeautifulSoup(weather_response.text, 'html.parser') \n",
    "    \n",
    "    # берем первые два блока: сегодня и завтра \n",
    "    table_name = \"weather-table__body\"\n",
    "    weather_info = weather_soup.find_all('tbody', {'class': table_name})[:2]\n",
    "    print(f'Погода в {city_name}:\\n')\n",
    "    for i, weather in enumerate(weather_info):\n",
    "        print('\\tСегодня:\\n' if i == 0 else '\\tЗавтра:\\n')\n",
    "        deg_cell_name = 'weather-table__body-cell weather-table__body-cell_type_daypart weather-table__body-cell_wrapper'\n",
    "        degrees = weather.find_all('td', {'class': deg_cell_name})[1].find('span', {'class': 'a11y-hidden'}).text.split()\n",
    "        print(f'\\t\\tТемпература: {degrees[2 if len(degrees) == 5 else 1]}\\n')\n",
    "        \n",
    "        precip_cell_name = 'weather-table__body-cell weather-table__body-cell_type_condition'\n",
    "        precipitation = weather.find_all('td', {'class': precip_cell_name})[1].text\n",
    "        print(f'\\t\\tОсадки: {precipitation}\\n')\n",
    "        \n",
    "        humidity_cell_name = 'weather-table__body-cell weather-table__body-cell_type_humidity'\n",
    "        humidity = weather.find_all('td', {'class': humidity_cell_name})[1].text\n",
    "        print(f'\\t\\tВлажность: {humidity}\\n')\n",
    "        \n",
    "        wind_cell_name = 'weather-table__body-cell weather-table__body-cell_type_wind weather-table__body-cell_wrapper'\n",
    "        wind = weather.find_all('td', {'class': wind_cell_name})[1].text\n",
    "        print(f'\\t\\tВетер: {wind}\\n')     "
   ]
  },
  {
   "cell_type": "code",
   "execution_count": 15,
   "id": "fcdbfd33",
   "metadata": {},
   "outputs": [
    {
     "name": "stdout",
     "output_type": "stream",
     "text": [
      "Погода в moscow:\n",
      "\n",
      "\tСегодня:\n",
      "\n",
      "\t\tТемпература: -3\n",
      "\n",
      "\t\tОсадки: Пасмурно\n",
      "\n",
      "\t\tВлажность: 74%\n",
      "\n",
      "\t\tВетер: 3,1ЮВ3, юго-восточный\n",
      "\n",
      "\tЗавтра:\n",
      "\n",
      "\t\tТемпература: -5\n",
      "\n",
      "\t\tОсадки: Пасмурно\n",
      "\n",
      "\t\tВлажность: 86%\n",
      "\n",
      "\t\tВетер: 1,9В2, восточный\n",
      "\n"
     ]
    }
   ],
   "source": [
    "give_weather('moscow')"
   ]
  },
  {
   "cell_type": "code",
   "execution_count": 16,
   "id": "366dc0ee",
   "metadata": {},
   "outputs": [
    {
     "name": "stdout",
     "output_type": "stream",
     "text": [
      "Погода в yekaterinburg:\n",
      "\n",
      "\tСегодня:\n",
      "\n",
      "\t\tТемпература: -6\n",
      "\n",
      "\t\tОсадки: Облачно с прояснениями\n",
      "\n",
      "\t\tВлажность: 56%\n",
      "\n",
      "\t\tВетер: 5,2З5, западный\n",
      "\n",
      "\tЗавтра:\n",
      "\n",
      "\t\tТемпература: -6\n",
      "\n",
      "\t\tОсадки: Пасмурно\n",
      "\n",
      "\t\tВлажность: 66%\n",
      "\n",
      "\t\tВетер: 6,9З7, западный\n",
      "\n"
     ]
    }
   ],
   "source": [
    "give_weather('yekaterinburg')"
   ]
  },
  {
   "cell_type": "markdown",
   "id": "5fd34654",
   "metadata": {},
   "source": [
    "Задание 2 [2 балла].\n",
    "\n",
    "Воспользуйтесь рейтингом фильмов - https://www.imdb.com/chart/top\n",
    "Выгрузите ранг фильма, название, год и рейтинг.\n",
    "1. Определите самое успешное десятилетие на основе среднего и максимального рейтинга фильмов (например, десятилетием является период 2010-2019 включительно). Постройте график.\n",
    "2. Выведите таблицу в формате: Десятилетие - Самый успешый фильм этого десятилетия"
   ]
  },
  {
   "cell_type": "code",
   "execution_count": 17,
   "id": "763503a0",
   "metadata": {},
   "outputs": [],
   "source": [
    "imdb_url = \"https://www.imdb.com/chart/top\"\n",
    "imdb_response = requests.get(imdb_url)\n",
    "imdb_soup = BeautifulSoup(imdb_response.text, 'html.parser')"
   ]
  },
  {
   "cell_type": "code",
   "execution_count": 18,
   "id": "470a430d",
   "metadata": {},
   "outputs": [],
   "source": [
    "import pandas as pd\n",
    "import numpy as np\n",
    "import matplotlib.pyplot as plt"
   ]
  },
  {
   "cell_type": "code",
   "execution_count": 19,
   "id": "3ede35a2",
   "metadata": {},
   "outputs": [
    {
     "data": {
      "text/html": [
       "<div>\n",
       "<style scoped>\n",
       "    .dataframe tbody tr th:only-of-type {\n",
       "        vertical-align: middle;\n",
       "    }\n",
       "\n",
       "    .dataframe tbody tr th {\n",
       "        vertical-align: top;\n",
       "    }\n",
       "\n",
       "    .dataframe thead th {\n",
       "        text-align: right;\n",
       "    }\n",
       "</style>\n",
       "<table border=\"1\" class=\"dataframe\">\n",
       "  <thead>\n",
       "    <tr style=\"text-align: right;\">\n",
       "      <th></th>\n",
       "      <th>name</th>\n",
       "      <th>year</th>\n",
       "      <th>rating</th>\n",
       "    </tr>\n",
       "    <tr>\n",
       "      <th>rang</th>\n",
       "      <th></th>\n",
       "      <th></th>\n",
       "      <th></th>\n",
       "    </tr>\n",
       "  </thead>\n",
       "  <tbody>\n",
       "    <tr>\n",
       "      <th>1</th>\n",
       "      <td>Побег из Шоушенка</td>\n",
       "      <td>1994</td>\n",
       "      <td>9.2</td>\n",
       "    </tr>\n",
       "    <tr>\n",
       "      <th>2</th>\n",
       "      <td>Крёстный отец</td>\n",
       "      <td>1972</td>\n",
       "      <td>9.2</td>\n",
       "    </tr>\n",
       "    <tr>\n",
       "      <th>3</th>\n",
       "      <td>Темный рыцарь</td>\n",
       "      <td>2008</td>\n",
       "      <td>9.0</td>\n",
       "    </tr>\n",
       "    <tr>\n",
       "      <th>4</th>\n",
       "      <td>Крёстный отец 2</td>\n",
       "      <td>1974</td>\n",
       "      <td>9.0</td>\n",
       "    </tr>\n",
       "    <tr>\n",
       "      <th>5</th>\n",
       "      <td>12 рaзгневанных мужчин</td>\n",
       "      <td>1957</td>\n",
       "      <td>9.0</td>\n",
       "    </tr>\n",
       "    <tr>\n",
       "      <th>...</th>\n",
       "      <td>...</td>\n",
       "      <td>...</td>\n",
       "      <td>...</td>\n",
       "    </tr>\n",
       "    <tr>\n",
       "      <th>246</th>\n",
       "      <td>Дерсу Узала</td>\n",
       "      <td>1975</td>\n",
       "      <td>8.0</td>\n",
       "    </tr>\n",
       "    <tr>\n",
       "      <th>247</th>\n",
       "      <td>Прислуга</td>\n",
       "      <td>2011</td>\n",
       "      <td>8.0</td>\n",
       "    </tr>\n",
       "    <tr>\n",
       "      <th>248</th>\n",
       "      <td>Аладдин</td>\n",
       "      <td>1992</td>\n",
       "      <td>8.0</td>\n",
       "    </tr>\n",
       "    <tr>\n",
       "      <th>249</th>\n",
       "      <td>Ганди</td>\n",
       "      <td>1982</td>\n",
       "      <td>8.0</td>\n",
       "    </tr>\n",
       "    <tr>\n",
       "      <th>250</th>\n",
       "      <td>Танцующий с волками</td>\n",
       "      <td>1990</td>\n",
       "      <td>8.0</td>\n",
       "    </tr>\n",
       "  </tbody>\n",
       "</table>\n",
       "<p>250 rows × 3 columns</p>\n",
       "</div>"
      ],
      "text/plain": [
       "                        name  year  rating\n",
       "rang                                      \n",
       "1          Побег из Шоушенка  1994     9.2\n",
       "2              Крёстный отец  1972     9.2\n",
       "3              Темный рыцарь  2008     9.0\n",
       "4            Крёстный отец 2  1974     9.0\n",
       "5     12 рaзгневанных мужчин  1957     9.0\n",
       "...                      ...   ...     ...\n",
       "246              Дерсу Узала  1975     8.0\n",
       "247                 Прислуга  2011     8.0\n",
       "248                  Аладдин  1992     8.0\n",
       "249                    Ганди  1982     8.0\n",
       "250      Танцующий с волками  1990     8.0\n",
       "\n",
       "[250 rows x 3 columns]"
      ]
     },
     "execution_count": 19,
     "metadata": {},
     "output_type": "execute_result"
    }
   ],
   "source": [
    "data = []\n",
    "top_list = imdb_soup.find('tbody', {'class': 'lister-list'})\n",
    "for film in top_list.find_all('tr'):\n",
    "    title_cell = film.find('td', {'class': 'titleColumn'})\n",
    "    info = title_cell.text.replace('\\n', '')\n",
    "    idx = info.rfind('(')\n",
    "    year = int(info[idx+1:idx+5])\n",
    "    info = info[:idx].split()\n",
    "    rating = film.find('td', {'class': 'ratingColumn'}).text.strip()\n",
    "    data.append([info[0][:-1], \" \".join(info[1:]), year, float(rating)])\n",
    "data = pd.DataFrame(data, columns=['rang', 'name', 'year', 'rating'])\n",
    "data.set_index(data.columns[0], inplace=True)\n",
    "data\n",
    "    "
   ]
  },
  {
   "cell_type": "code",
   "execution_count": 20,
   "id": "22afead8",
   "metadata": {},
   "outputs": [
    {
     "data": {
      "text/plain": [
       "1921"
      ]
     },
     "execution_count": 20,
     "metadata": {},
     "output_type": "execute_result"
    }
   ],
   "source": [
    "min(data['year'])"
   ]
  },
  {
   "cell_type": "code",
   "execution_count": 21,
   "id": "0060ba19",
   "metadata": {},
   "outputs": [],
   "source": [
    "decades = list(range(1920, 2021, 10))\n",
    "avg_ratings = []\n",
    "for decade in decades:\n",
    "    decade_data = data[(data['year'] >= decade) & (data['year'] < decade + 10)]\n",
    "    avg_ratings.append(np.round(decade_data['rating'].mean(), 3))"
   ]
  },
  {
   "cell_type": "code",
   "execution_count": 22,
   "id": "e775c229",
   "metadata": {},
   "outputs": [
    {
     "data": {
      "image/png": "[encoded data removed]",
      "text/plain": [
       "<Figure size 1080x360 with 1 Axes>"
      ]
     },
     "metadata": {
      "needs_background": "light"
     },
     "output_type": "display_data"
    }
   ],
   "source": [
    "plt.figure(figsize=(15, 5))\n",
    "plt.plot(range(len(avg_ratings)), avg_ratings)\n",
    "plt.grid()\n",
    "plt.title('Average rating per decade')\n",
    "plt.scatter(range(len(avg_ratings)), avg_ratings, c='red')\n",
    "plt.ylabel('Average rating')\n",
    "plt.xlabel('Decades')\n",
    "plt.xticks(range(len(decades)), [str(decade)+'-'+str(decade+9) for decade in decades]);"
   ]
  },
  {
   "cell_type": "markdown",
   "id": "d4fb24da",
   "metadata": {},
   "source": [
    "Получается, что 1990-1999 самое успешное десятилетие"
   ]
  },
  {
   "cell_type": "markdown",
   "id": "462e6b3c",
   "metadata": {},
   "source": [
    "В следующем пункте дан топ лист => даже не надо сортировать"
   ]
  },
  {
   "cell_type": "code",
   "execution_count": 23,
   "id": "6e9287d9",
   "metadata": {},
   "outputs": [
    {
     "data": {
      "text/html": [
       "<div>\n",
       "<style scoped>\n",
       "    .dataframe tbody tr th:only-of-type {\n",
       "        vertical-align: middle;\n",
       "    }\n",
       "\n",
       "    .dataframe tbody tr th {\n",
       "        vertical-align: top;\n",
       "    }\n",
       "\n",
       "    .dataframe thead th {\n",
       "        text-align: right;\n",
       "    }\n",
       "</style>\n",
       "<table border=\"1\" class=\"dataframe\">\n",
       "  <thead>\n",
       "    <tr style=\"text-align: right;\">\n",
       "      <th></th>\n",
       "      <th>decade</th>\n",
       "      <th>most sucessful</th>\n",
       "      <th>rating</th>\n",
       "    </tr>\n",
       "  </thead>\n",
       "  <tbody>\n",
       "    <tr>\n",
       "      <th>0</th>\n",
       "      <td>1920-1929</td>\n",
       "      <td>Метрополис; Малыш</td>\n",
       "      <td>8.2</td>\n",
       "    </tr>\n",
       "    <tr>\n",
       "      <th>1</th>\n",
       "      <td>1930-1939</td>\n",
       "      <td>Новые времена; Огни большого города</td>\n",
       "      <td>8.4</td>\n",
       "    </tr>\n",
       "    <tr>\n",
       "      <th>2</th>\n",
       "      <td>1940-1949</td>\n",
       "      <td>Эта замечательная жизнь</td>\n",
       "      <td>8.6</td>\n",
       "    </tr>\n",
       "    <tr>\n",
       "      <th>3</th>\n",
       "      <td>1950-1959</td>\n",
       "      <td>12 рaзгневанных мужчин</td>\n",
       "      <td>9.0</td>\n",
       "    </tr>\n",
       "    <tr>\n",
       "      <th>4</th>\n",
       "      <td>1960-1969</td>\n",
       "      <td>Хороший, плохой, злой</td>\n",
       "      <td>8.8</td>\n",
       "    </tr>\n",
       "    <tr>\n",
       "      <th>5</th>\n",
       "      <td>1970-1979</td>\n",
       "      <td>Крёстный отец</td>\n",
       "      <td>9.2</td>\n",
       "    </tr>\n",
       "    <tr>\n",
       "      <th>6</th>\n",
       "      <td>1980-1989</td>\n",
       "      <td>Звёздные войны. Эпизод 5: Империя наносит отве...</td>\n",
       "      <td>8.7</td>\n",
       "    </tr>\n",
       "    <tr>\n",
       "      <th>7</th>\n",
       "      <td>1990-1999</td>\n",
       "      <td>Побег из Шоушенка</td>\n",
       "      <td>9.2</td>\n",
       "    </tr>\n",
       "    <tr>\n",
       "      <th>8</th>\n",
       "      <td>2000-2009</td>\n",
       "      <td>Темный рыцарь</td>\n",
       "      <td>9.0</td>\n",
       "    </tr>\n",
       "    <tr>\n",
       "      <th>9</th>\n",
       "      <td>2010-2019</td>\n",
       "      <td>Начало</td>\n",
       "      <td>8.7</td>\n",
       "    </tr>\n",
       "    <tr>\n",
       "      <th>10</th>\n",
       "      <td>2020-2029</td>\n",
       "      <td>Топ Ган: Мэверик</td>\n",
       "      <td>8.3</td>\n",
       "    </tr>\n",
       "  </tbody>\n",
       "</table>\n",
       "</div>"
      ],
      "text/plain": [
       "       decade                                     most sucessful  rating\n",
       "0   1920-1929                                  Метрополис; Малыш     8.2\n",
       "1   1930-1939                Новые времена; Огни большого города     8.4\n",
       "2   1940-1949                            Эта замечательная жизнь     8.6\n",
       "3   1950-1959                             12 рaзгневанных мужчин     9.0\n",
       "4   1960-1969                              Хороший, плохой, злой     8.8\n",
       "5   1970-1979                                      Крёстный отец     9.2\n",
       "6   1980-1989  Звёздные войны. Эпизод 5: Империя наносит отве...     8.7\n",
       "7   1990-1999                                  Побег из Шоушенка     9.2\n",
       "8   2000-2009                                      Темный рыцарь     9.0\n",
       "9   2010-2019                                             Начало     8.7\n",
       "10  2020-2029                                   Топ Ган: Мэверик     8.3"
      ]
     },
     "execution_count": 23,
     "metadata": {},
     "output_type": "execute_result"
    }
   ],
   "source": [
    "sucessful_films = []\n",
    "sucessful_ratings = []\n",
    "for decade in decades:\n",
    "    decade_data = data[(data['year'] >= decade) & (data['year'] < decade + 10)]\n",
    "    max_rating = decade_data['rating'][0]\n",
    "    sucessful_ratings.append(max_rating)\n",
    "    decade_data.reset_index(drop=True, inplace=True)\n",
    "    cur_sucessful = decade_data.iloc[0]['name']\n",
    "    i = 1\n",
    "    while decade_data.iloc[i]['rating'] == max_rating:\n",
    "        cur_sucessful += '; '\n",
    "        cur_sucessful += decade_data.iloc[i]['name']\n",
    "        i += 1\n",
    "    sucessful_films.append(cur_sucessful)\n",
    "data_sucessful = pd.DataFrame({'decade':  [str(decade)+'-'+str(decade+9) for decade in decades],\n",
    "                               'most sucessful': sucessful_films,\n",
    "                               'rating': sucessful_ratings})\n",
    "data_sucessful"
   ]
  },
  {
   "cell_type": "code",
   "execution_count": null,
   "id": "a98b48b0",
   "metadata": {},
   "outputs": [],
   "source": []
  },
  {
   "cell_type": "markdown",
   "id": "f39f7118",
   "metadata": {},
   "source": [
    "Задание 3 [4 балла].\n",
    "\n",
    "Напишите скрипт, который будет нажимать на случайную внутреннюю ссылку на странице Википедии. Внутренней считается ссылка, которая ссылается на какую-то другую статью Википедии.\n",
    "Ссылка должна быть из основного информационного блока. Функциональные ссылки из верхнего, бокового и нижнего меню в этой процедуре участвовать не должны.\n",
    "\n",
    "На вход функции поступает число повторений этой процедуры. Переходы не прерываются, то есть при переходе на следующую статью следующая ссылка выбирается именно среди ссылок этой статьи.\n",
    "\n",
    "Выведите путь (последовательность) по названиям статей, которые встретились в процессе перехода по страницам."
   ]
  },
  {
   "cell_type": "code",
   "execution_count": null,
   "id": "f9c1ea20",
   "metadata": {},
   "outputs": [],
   "source": [
    "vector-body"
   ]
  },
  {
   "cell_type": "code",
   "execution_count": 27,
   "id": "7cd7d695",
   "metadata": {},
   "outputs": [],
   "source": [
    "def wiki_walk(num_iter):\n",
    "    wiki_url = 'https://ru.wikipedia.org/wiki/%D0%97%D0%B0%D0%B3%D0%BB%D0%B0%D0%B2%D0%BD%D0%B0%D1%8F_%D1%81%D1%82%D1%80%D0%B0%D0%BD%D0%B8%D1%86%D0%B0'\n",
    "    for i in range(num_iter):\n",
    "        wiki_response = requests.get(wiki_url)\n",
    "        wiki_soup = BeautifulSoup(wiki_response.text, 'html.parser')\n",
    "        print('|', wiki_soup.title.text, '|', sep='')\n",
    "        body = wiki_soup.find('div', {'class': 'main-wrapper' if i == 0 else 'mw-body-content mw-content-ltr'})\n",
    "        links = body.find_all('a', href=True)\n",
    "        idx = np.random.choice(len(links))\n",
    "        wiki_url = 'https://ru.wikipedia.org' + links[idx]['href']\n",
    "        if i != num_iter - 1:\n",
    "            print('Переход на', wiki_url)"
   ]
  },
  {
   "cell_type": "code",
   "execution_count": 28,
   "id": "d8b52371",
   "metadata": {},
   "outputs": [
    {
     "name": "stdout",
     "output_type": "stream",
     "text": [
      "|Википедия — свободная энциклопедия|\n",
      "Переход на https://ru.wikipedia.org/wiki/%D0%9C%D0%B0%D0%B9%D0%BE%D1%80_%D0%93%D1%80%D0%BE%D0%BC_(%D1%84%D0%B8%D0%BB%D1%8C%D0%BC)\n",
      "|Майор Гром (фильм) — Википедия|\n",
      "Переход на https://ru.wikipedia.org/wiki/%D0%A2%D1%80%D0%B5%D0%B9%D0%BB%D0%B5%D1%80_(%D0%BA%D0%B8%D0%BD%D0%B5%D0%BC%D0%B0%D1%82%D0%BE%D0%B3%D1%80%D0%B0%D1%84)\n",
      "|Трейлер (кинематограф) — Википедия|\n",
      "Переход на https://ru.wikipedia.org/wiki/Kodak\n",
      "|Eastman Kodak — Википедия|\n",
      "Переход на https://ru.wikipedia.org/wiki/%D0%92%D1%8C%D0%B5%D1%82%D0%BD%D0%B0%D0%BC%D1%81%D0%BA%D0%B0%D1%8F_%D0%B2%D0%BE%D0%B9%D0%BD%D0%B0\n",
      "|Война во Вьетнаме — Википедия|\n"
     ]
    }
   ],
   "source": [
    "wiki_walk(5)"
   ]
  },
  {
   "cell_type": "code",
   "execution_count": null,
   "id": "e8716d6c",
   "metadata": {},
   "outputs": [],
   "source": []
  }
 ],
 "metadata": {
  "kernelspec": {
   "display_name": "Python 3 (ipykernel)",
   "language": "python",
   "name": "python3"
  },
  "language_info": {
   "codemirror_mode": {
    "name": "ipython",
    "version": 3
   },
   "file_extension": ".py",
   "mimetype": "text/x-python",
   "name": "python",
   "nbconvert_exporter": "python",
   "pygments_lexer": "ipython3",
   "version": "3.10.10"
  }
 },
 "nbformat": 4,
 "nbformat_minor": 5
}
