{
 "cells": [
  {
   "cell_type": "markdown",
   "metadata": {},
   "source": [
    "### T1 [1 балл]. Сделайте калькулятор произвольных выражений, операции следующие: +, -, /, ^, *. скобок нет"
   ]
  },
  {
   "cell_type": "code",
   "execution_count": 1,
   "metadata": {},
   "outputs": [],
   "source": [
    "def parse(s: list) -> list:\n",
    "    \"\"\"\n",
    "    функция перевода инфиксной записи в постфиксную\n",
    "    32-4*6+123/7*9 -> 32 4 6 * - 123 7 / 9 * +\n",
    "    [32, - , 4, *, 6, +, 123, /, 7, *, 9] -> [32, 4, 6, *, -, 123, 7, /, 9, *, +]\n",
    "    \n",
    "    2^2-3 -> 4 3 -\n",
    "    \"\"\"\n",
    "    stack = [] # в стеке храним встретившиеся операции\n",
    "    result = []\n",
    "    action = ['+', '-', '*', '/']\n",
    "\n",
    "    for item in s:\n",
    "        if '^' in item: # если встретили степень, вычисляем\n",
    "            idx = item.find('^')\n",
    "            result.append(str(int(item[:idx])**int(item[idx+1:])))\n",
    "        elif item.isdigit(): # если чиселка то просто кидаем в result\n",
    "            result.append(item)\n",
    "        else: # встретили операцию \n",
    "            if stack == []: # проверка на первую встретившуюся операцию\n",
    "                stack.append(item)\n",
    "            else:\n",
    "                if action.index(stack[-1]) // 2 < action.index(item) // 2: # проверка приоритетов операции предыдущей и текущей\n",
    "                    # в случае, если текущая операция выше по приоритету, то добавляем в конец стека\n",
    "                    # то есть выполняем ее первой\n",
    "                    stack.append(item)\n",
    "                else:\n",
    "                    # в ином случае выгружаем предыдущие операции, пока стек не пуст или не уменьшился приоритет операции в стеке\n",
    "                    while stack != [] and action.index(stack[-1]) // 2 >= action.index(item) // 2:\n",
    "                        result.append(stack[-1])\n",
    "                        stack.pop()\n",
    "                    stack.append(item)\n",
    "\n",
    "    while stack != []: # все оставшиеся операции выгружаем\n",
    "        result.append(stack[-1])\n",
    "        stack.pop()\n",
    "    return result"
   ]
  },
  {
   "cell_type": "code",
   "execution_count": 2,
   "metadata": {},
   "outputs": [],
   "source": [
    "def calculate(input_str: str):\n",
    "    parse_inp = parse(input_str.split())\n",
    "    stack = [] # теперь в стеке храним числа, которые учавствуют в операциях\n",
    "    for item in parse_inp:\n",
    "        if item.isdigit(): # чиселку кладем в стек\n",
    "            stack.append(int(item))\n",
    "        else:\n",
    "            # извлекаем чиселки\n",
    "            a = stack[-2]\n",
    "            b = stack[-1]\n",
    "            stack.pop()\n",
    "            stack.pop()\n",
    "            # производим нужную операцию и кладем в стек\n",
    "            if item == '+':\n",
    "                stack.append(a + b)\n",
    "            elif item == '-':\n",
    "                stack.append(a - b)\n",
    "            elif item == '*':\n",
    "                stack.append(a * b)\n",
    "            elif item == '/':\n",
    "                stack.append(a // b)\n",
    "    # в стеке должно остаться одно число, являющееся ответом\n",
    "    return stack[0]"
   ]
  },
  {
   "cell_type": "markdown",
   "metadata": {},
   "source": [
    "#### Дополнить еще 2-мя своими тестами"
   ]
  },
  {
   "cell_type": "code",
   "execution_count": 3,
   "metadata": {},
   "outputs": [],
   "source": [
    "assert calculate(\"2 + 2 * 2\") == 6\n",
    "assert calculate(\"345 / 5 * 21\") == 1449.\n",
    "assert calculate(\"3^3 - 10 + 41 * 3\") == 140 # здесь была ошибка, поправил с 119 на 140\n",
    "assert calculate(\"42 / 7 * 32\") == 192.0"
   ]
  },
  {
   "cell_type": "code",
   "execution_count": 4,
   "metadata": {},
   "outputs": [],
   "source": [
    "assert calculate(\"512 * 2 - 2^10 + 1 / 1 * 2\") == 2\n",
    "assert calculate(\"2048 / 2^10\") == 2"
   ]
  },
  {
   "cell_type": "markdown",
   "metadata": {},
   "source": [
    "### T2 [1 балл]. Создайте функцию, которая размножает букву, после которой встретилось число, на это число.\n",
    "HE2LO -> HELLO (число означает сколько раз встречается буква)"
   ]
  },
  {
   "cell_type": "code",
   "execution_count": 5,
   "metadata": {},
   "outputs": [],
   "source": [
    "def transform_string(inp_string):\n",
    "    i = 0\n",
    "    result = ''\n",
    "    while i < len(inp_string):\n",
    "        if inp_string[i].isdigit(): # ща будет чиселка\n",
    "            # в этом блоке собираем чиселку\n",
    "            j = i + 1\n",
    "            while j < len(inp_string) and inp_string[j].isdigit():\n",
    "                j += 1\n",
    "            # если число в конце, то нечего больше размножать\n",
    "            if j == len(inp_string):\n",
    "                result += inp_string[i:j]\n",
    "                return result\n",
    "            num = int(inp_string[i:j])\n",
    "            # множим\n",
    "            result += inp_string[j] * num\n",
    "            # продолжаем после чиселки\n",
    "            i = j\n",
    "        else:\n",
    "            result += inp_string[i]\n",
    "        i += 1\n",
    "    return result\n",
    "            "
   ]
  },
  {
   "cell_type": "markdown",
   "metadata": {},
   "source": [
    "#### Дополнить еще 2-мя своими тестами"
   ]
  },
  {
   "cell_type": "code",
   "execution_count": 6,
   "metadata": {},
   "outputs": [],
   "source": [
    "assert transform_string(\"HE2LO\") == \"HELLO\"\n",
    "assert transform_string(\"HI\") == \"HI\"\n",
    "assert transform_string(\"пр12ивет\") == \"приииииииииииивет\"\n",
    "assert transform_string(\"2л3у78н65тик\") == 'ллуууннннннннннннннннннннннннннннннннннннннннннннннннннннннннннннннннннннннннннннннтттттттттттттттттттттттттттттттттттттттттттттттттттттттттттттттттик'\n"
   ]
  },
  {
   "cell_type": "code",
   "execution_count": 7,
   "metadata": {},
   "outputs": [],
   "source": [
    "# мои тесты, где случаи, неохваченные в прошлых\n",
    "assert transform_string('') == ''\n",
    "assert transform_string('bebra10') == 'bebra10'"
   ]
  },
  {
   "cell_type": "markdown",
   "metadata": {},
   "source": [
    "### T3 [1 балл]. Создайте функцию, которая выводит статистик по строке: кол-во гласных, согласных, цифр, строчных букв, прописных букв"
   ]
  },
  {
   "cell_type": "code",
   "execution_count": 8,
   "metadata": {},
   "outputs": [],
   "source": [
    "def string_stat(inp_string):\n",
    "    vowels = set(['А', 'О', 'У', 'Ы', 'Э', 'Е', 'Ё', 'И', 'Ю', 'Я'])\n",
    "    result = [0] * 5 # наш счетчик\n",
    "    inp_string = inp_string.strip().replace(' ', '') # убрали ненужные пробелы и переносы строки\n",
    "    for letter in inp_string:\n",
    "        if letter.isdigit():\n",
    "            result[2] += 1\n",
    "            continue\n",
    "        # считаем капс или пропись\n",
    "        if letter.isupper():\n",
    "            result[4] += 1\n",
    "        else:\n",
    "            result[3] += 1\n",
    "        # гласная или согл\n",
    "        if letter.upper() in vowels:\n",
    "            result[0] += 1\n",
    "        else:\n",
    "            result[1] += 1\n",
    "    \n",
    "    return tuple(result)"
   ]
  },
  {
   "cell_type": "markdown",
   "metadata": {},
   "source": [
    "#### Дополнить еще 2-мя своими тестами"
   ]
  },
  {
   "cell_type": "code",
   "execution_count": 9,
   "metadata": {},
   "outputs": [],
   "source": [
    "assert string_stat(\"Тевирп\") == (2, 4, 0, 5, 1)\n",
    "assert string_stat(\"КоРоВа4\") == (3, 3, 1, 3, 3)"
   ]
  },
  {
   "cell_type": "code",
   "execution_count": 10,
   "metadata": {},
   "outputs": [],
   "source": [
    "assert string_stat('БеБрА1   бебра2') == (4, 6, 2, 7, 3)\n",
    "assert string_stat('     БеБрА1      бебра2  \\n') == (4, 6, 2, 7, 3)"
   ]
  },
  {
   "cell_type": "markdown",
   "metadata": {},
   "source": [
    "### Т4 [1 балл]. Напишите функцию, инвертирующую словарь.\n",
    "Например, из k - [v_1, v_2] в v_1 - [k_1]"
   ]
  },
  {
   "cell_type": "code",
   "execution_count": 11,
   "metadata": {},
   "outputs": [],
   "source": [
    "def dict_inverter(input_dict):\n",
    "    result = dict()\n",
    "    # итериуемся по парам (ключ, значение)\n",
    "    for key, arr in input_dict.items():\n",
    "        # штука, которую проверяет 2ой мой тест\n",
    "        if not isinstance(arr, list):\n",
    "            arr = [arr]\n",
    "        # теперь итериуемся по элементам текущего ключа\n",
    "        for val in arr:\n",
    "            if val not in result:\n",
    "                result[val] = key\n",
    "            else:\n",
    "                # штука, которую проверяет 1ый мой тест\n",
    "                if isinstance(result[val], list):\n",
    "                    result[val] = result[val] + [key]\n",
    "                else:\n",
    "                    result[val] = [result[val], key]\n",
    "    return result"
   ]
  },
  {
   "cell_type": "markdown",
   "metadata": {},
   "source": [
    "#### Дополнить еще 1-м своим тестом"
   ]
  },
  {
   "cell_type": "code",
   "execution_count": 12,
   "metadata": {},
   "outputs": [],
   "source": [
    "assert dict_inverter({\"mango\" : [\"eatable\"], \"pillow\": [\"sleepable\"]}) == {\"eatable\": \"mango\", \"sleepable\": \"pillow\"}\n",
    "assert dict_inverter({\"mango\" : [\"eatable\", \"readable\"]}) == {\"readable\":\"mango\", \"eatable\":\"mango\"}\n",
    "assert dict_inverter({\"mango\" : [\"eatable\"], \"banana\": [\"eatable\"]}) == {\"eatable\": [\"mango\", \"banana\"]}"
   ]
  },
  {
   "cell_type": "code",
   "execution_count": 13,
   "metadata": {},
   "outputs": [],
   "source": [
    "# этот тест проверяет результат, если у больше чем 2 ключей есть общий элемент (не охвачен в прошлых)\n",
    "assert dict_inverter({\"mango\" : [\"eatable\"], \"banana\": [\"eatable\"], 'bebra': [\"eatable\"]}) == {'eatable': ['mango', 'banana', 'bebra']}\n",
    "# если у ключя одно значение, зачем список? мы все схаваем))\n",
    "assert dict_inverter({\"mango\" : \"eatable\", \"banana\": \"eatable\"}) == {'eatable': ['mango', 'banana']}"
   ]
  },
  {
   "cell_type": "markdown",
   "metadata": {},
   "source": [
    "### T5 [2 балла]. Средствами NumPy реализуйте функцию для применения метода главных компонент (снижение размерности).\n",
    "На вход подается двумерная матрица (NxM) и число компонент (k), на выходе получите матрицу сниженной размерности (Nxk)\n",
    "https://medium.com/analytics-vidhya/understanding-principle-component-analysis-pca-step-by-step-e7a4bb4031d9\n",
    "#### Протестируйте ее на некоторой матрице"
   ]
  },
  {
   "cell_type": "code",
   "execution_count": 14,
   "metadata": {},
   "outputs": [],
   "source": [
    "import numpy as np"
   ]
  },
  {
   "cell_type": "code",
   "execution_count": 15,
   "metadata": {},
   "outputs": [],
   "source": [
    "def MyPCA(X, k):\n",
    "    n, m = X.shape # получаем размеры\n",
    "    # стандатизируем признаки\n",
    "    mean_std = np.zeros((2, m))\n",
    "    for i in range(m):\n",
    "        mean_std[0, i] = X[:, i].mean()\n",
    "        mean_std[1, i] = X[:, i].std()\n",
    "    X_feature = (X - mean_std[0]) / mean_std[1]\n",
    "    # ковариоционная матрица\n",
    "    cov_m = np.cov(X_feature, rowvar=False)\n",
    "    # топ k с. векторов\n",
    "    eig_vals, eig_vectors = np.linalg.eig(cov_m)\n",
    "    idx = eig_vals.argsort()[::-1]\n",
    "    eig_vectors = eig_vectors[idx][:k]\n",
    "    # новая матрица\n",
    "    X_new = X_feature @ eig_vectors.T\n",
    "    return X_new"
   ]
  },
  {
   "cell_type": "code",
   "execution_count": 16,
   "metadata": {},
   "outputs": [
    {
     "data": {
      "text/plain": [
       "array([[ 0.52454067,  0.47473211],\n",
       "       [-1.48824623, -1.27453607],\n",
       "       [-0.66942753,  1.23636692],\n",
       "       [ 0.0299374 ,  0.1916992 ],\n",
       "       [ 1.60319569, -0.62826217]])"
      ]
     },
     "execution_count": 16,
     "metadata": {},
     "output_type": "execute_result"
    }
   ],
   "source": [
    "X = np.array([[1, 2, 3, 4],\n",
    "             [5, 5, 6, 7],\n",
    "             [1, 4, 2, 3],\n",
    "             [5, 3, 2, 1],\n",
    "             [8, 1, 2, 2]])\n",
    "MyPCA(X, 2)"
   ]
  },
  {
   "cell_type": "markdown",
   "metadata": {},
   "source": [
    "### Т6 [4 балла]. Напишите в виде класса NashNumPy свой NumPy, но выполняющий матричные операции только на одномерных и двумерных массивах. Должны быть реализованы следующие операции (в случае, если по правилам линейной алгебры такая операция невозможна, то должна возвращаться соответствующая ошибка):\n",
    "- создание объекта класса NashNumPy - через список, через заполнение 0, через заполнение 1\n",
    "- красивое распечатывание объекта класса\n",
    "- применение некоторой (подаваемой на вход) функции ко всем элементам массива\n",
    "- размерность объекта класса\n",
    "- матричное сложение (и разность)\n",
    "- матричное произведение\n",
    "- произведение Адамара\n",
    "- вертикальное соединение\n",
    "- горизонтальное соединение\n",
    "\n",
    "#### Напишите собственные проверки работоспособности функции"
   ]
  },
  {
   "cell_type": "code",
   "execution_count": 17,
   "metadata": {},
   "outputs": [],
   "source": [
    "class NashNumPy:\n",
    "    def __init__(self, matrix=None):\n",
    "        \n",
    "        self.__matrix = matrix\n",
    "        self.__N = None\n",
    "        self.__M = None\n",
    "        \n",
    "        if self.__matrix is not None:\n",
    "            if not isinstance(self.__matrix, (list, NashNumPy)):\n",
    "                raise ValueError(\"The argument `matrix` must be list\")\n",
    "            self.__N = len(self.__matrix)\n",
    "            \n",
    "            if len(self.__matrix) != 0:\n",
    "                if isinstance(self.__matrix[0], (list, NashNumPy)):\n",
    "                    self.check_rows() # проверяем корректность двумерной матрицы\n",
    "                    self.__M = len(self.__matrix[0])\n",
    "                    # каждая строка будет классом NashNumpy, чтобы не пришлось \n",
    "                    # дублировать код для 2d случая, ведь процедура будет рекурсивной\n",
    "                    # в таком случае будет легко обобщить на n-мерный случай\n",
    "                    self.__matrix = [NashNumPy(row) for row in self.__matrix]\n",
    "                    \n",
    "                    \n",
    "    def __len__(self):\n",
    "        return self.__N\n",
    "    \n",
    "    def __iter__(self):\n",
    "        # для range-based-for цикла\n",
    "        for i in range(self.__N):\n",
    "            yield self.__matrix[i]\n",
    "                    \n",
    "        \n",
    "    \n",
    "    def __str__(self):\n",
    "        \"\"\"\n",
    "        для красивого вывода, print будет пытаться неявно преобразовать в str\n",
    "        поэтому написали для этого реализацию\n",
    "        \"\"\"\n",
    "        result = \"\"\n",
    "        if self.__matrix is None:\n",
    "            return \"The matrix is not initialized\\n\"\n",
    "        elif self.__M is None:\n",
    "            for item in self.__matrix:\n",
    "                result += (\"%-7d\" % item)\n",
    "            result += \"\\n\"\n",
    "        else:\n",
    "            for row in self.__matrix:\n",
    "                for item in row:\n",
    "                    result += (\"%-7d\" % item)\n",
    "                result += \"\\n\"\n",
    "        return result\n",
    "        \n",
    "    \n",
    "    def __add__(self, other):\n",
    "        \"\"\"\n",
    "        return copy of addition\n",
    "        \"\"\"\n",
    "        if not isinstance(other, NashNumPy):\n",
    "            # пробуем привести к NashNumPy\n",
    "            other = NashNumPy(other)\n",
    "            \n",
    "        if self.__N != other.__N or self.__M != other.__M:\n",
    "            raise ValueError(\"The dimensions must be same\")\n",
    "        \n",
    "        result = []\n",
    "        \n",
    "        # обобщенный код для обоих видов\n",
    "        for i in range(self.__N):\n",
    "                result.append(self.__matrix[i] + other[i])\n",
    "                \n",
    "        result = NashNumPy(result)\n",
    "        return result\n",
    "        \n",
    "        \n",
    "    \n",
    "    def __sub__(self, other):\n",
    "        \"\"\"\n",
    "        return copy of addition\n",
    "        \"\"\"\n",
    "        if not isinstance(other, NashNumPy):\n",
    "            # пробуем привести к NashNumPy\n",
    "            other = NashNumPy(other)\n",
    "            \n",
    "        if self.__N != other.__N or self.__M != other.__M:\n",
    "            raise ValueError(\"The dimensions must be same\")\n",
    "        \n",
    "        result = []\n",
    "        # обобщенный код для обоих видов\n",
    "        for i in range(self.__N):\n",
    "                result.append(self.__matrix[i] - other[i])\n",
    "                \n",
    "        result = NashNumPy(result)\n",
    "        return result\n",
    "    \n",
    "    def __mul__(self, other):\n",
    "        \"\"\"\n",
    "        Произведение Адамара\n",
    "        \"\"\"\n",
    "        if not isinstance(other, NashNumPy):\n",
    "            # пробуем привести к NashNumPy\n",
    "            other = NashNumPy(other)\n",
    "            \n",
    "        if self.__N != other.__N or self.__M != other.__M:\n",
    "            raise ValueError(\"The dimensions must be same\")\n",
    "            \n",
    "        result = []\n",
    "        # обобщенный код для обоих видов\n",
    "        for i in range(self.__N):\n",
    "                result.append(self.__matrix[i] * other[i])\n",
    "                \n",
    "        result = NashNumPy(result)\n",
    "        return result \n",
    "        \n",
    "    \n",
    "    def __getitem__(self, ind):\n",
    "        \"\"\"\n",
    "        Перегружаем оператор индексирования\n",
    "        \"\"\"\n",
    "        if isinstance(ind, tuple):\n",
    "            if len(ind) > 2:\n",
    "                raise IndexError(\"NashNumPy supports not more than 2 dims\")\n",
    "            if self.__M is None:\n",
    "                raise IndexError(\"There only 1 dimension\")\n",
    "            i, j = ind\n",
    "            if i >= self.__N or j >= self.__M:\n",
    "                raise IndexError(\"index out of range\")\n",
    "            return self.__matrix[i][j]\n",
    "        else:\n",
    "            if ind >= self.__N:\n",
    "                raise IndexError(\"index out of range\")\n",
    "            return self.__matrix[ind]\n",
    "    \n",
    "    def __setitem__(self, ind, value):\n",
    "        if isinstance(ind, tuple):\n",
    "            if len(ind) > 2:\n",
    "                raise IndexError(\"NashNumPy supports not more than 2 dims\")\n",
    "            if self.__M is None:\n",
    "                raise IndexError(\"There only 1 dimension\")\n",
    "            i, j = ind\n",
    "            if i >= self.__N or j >= self.__M:\n",
    "                raise IndexError(\"index out of range\")\n",
    "            self.__matrix[i][j] = value\n",
    "        else:\n",
    "            if ind >= self.__N:\n",
    "                raise IndexError(\"index out of range\")\n",
    "            self.__matrix[ind] = value\n",
    "    \n",
    "    def zeros(self, dims):\n",
    "        if isinstance(dims, tuple):\n",
    "            if len(dims) > 2:\n",
    "                raise ValueError(\"NashNumPy supports not more than 2 dimensions\")\n",
    "            self.__N, self.__M = dims\n",
    "        else:\n",
    "            self.__N = self.__M = dims\n",
    "        self.__matrix = [NashNumPy([0] * self.__M) for i in range(self.__N)]\n",
    "        \n",
    "    def ones(self, dims):\n",
    "        if isinstance(dims, tuple):\n",
    "            if len(dims) > 2:\n",
    "                raise ValueError(\"NashNumPy supports not more than 2 dimensions\")\n",
    "            self.__N, self.__M = dims\n",
    "        else:\n",
    "            self.__N = self.__M = dims\n",
    "        self.__matrix = [NashNumPy([1] * self.__M) for i in range(self.__N)]\n",
    "    \n",
    "    def eye(self, dims: int):\n",
    "        if not isinstance(dims, int):\n",
    "            raise ValueError(\"identity matrix must be square\")\n",
    "        self.zeros(dims)\n",
    "        for i in range(self.__N):\n",
    "            self.__matrix[i][i] = 1\n",
    "        \n",
    "    \n",
    "    def apply(self, func):\n",
    "        \"\"\"\n",
    "        return copy, don't change initial\n",
    "        \"\"\"\n",
    "        result = []\n",
    "        # обобщенный код для обоих видов\n",
    "        for i in self.__matrix:\n",
    "            if isinstance(i, NashNumPy):\n",
    "                result.append(i.apply(func))\n",
    "            else:\n",
    "                result.append(func(i))\n",
    "        result = NashNumPy(result)\n",
    "        return result\n",
    "    \n",
    "    def shape(self):\n",
    "        return (self.__N, self.__M)\n",
    "    \n",
    "    def dot(self, other):\n",
    "        if not isinstance(other, NashNumPy):\n",
    "            # пробуем привести к NashNumPy\n",
    "            other = NashNumPy(other)\n",
    "        if self.__M != other.__N:\n",
    "            raise ValueError(\"matrix multiply is impossible\")\n",
    "        \n",
    "        # стандартный алгоритм, без выкрутасов))\n",
    "        result = []\n",
    "        for l_row in self.__matrix:\n",
    "            row = []\n",
    "            for r_col_idx in range(other.__M):\n",
    "                total = 0\n",
    "                for i in range(self.__M):\n",
    "                    total += l_row[i] * other.__matrix[i][r_col_idx] \n",
    "                row.append(total)\n",
    "            result.append(row)\n",
    "        result = NashNumPy(result)\n",
    "        return result\n",
    "    \n",
    "    def hstack(self, other):\n",
    "        \"\"\"\n",
    "        return copy\n",
    "        \"\"\"\n",
    "        if not isinstance(other, NashNumPy):\n",
    "            # пробуем привести к NashNumPy\n",
    "            other = NashNumPy(other)\n",
    "        if self.__N != other.__N:\n",
    "            raise ValueError(\"First dimensions must be same\")\n",
    "        result =[]\n",
    "        for num_row in range(self.__N):\n",
    "            new_row = []\n",
    "            for i in self.__matrix[num_row]:\n",
    "                new_row.append(i)\n",
    "            for i in other.__matrix[num_row]:\n",
    "                new_row.append(i)\n",
    "            result.append(new_row)\n",
    "        result = NashNumPy(result)\n",
    "        return result\n",
    "            \n",
    "    \n",
    "    def vstack(self, other):\n",
    "        \"\"\"\n",
    "        return copy\n",
    "        \"\"\"\n",
    "        if not isinstance(other, NashNumPy):\n",
    "            # пробуем привести к NashNumPy\n",
    "            other = NashNumPy(other)\n",
    "        if self.__M != other.__M:\n",
    "            raise ValueError(\"Second dimensions must be same\")\n",
    "        result =[]\n",
    "        for i in self.__matrix:\n",
    "            result.append(i)\n",
    "        for i in other.__matrix:\n",
    "            result.append(i)\n",
    "        result = NashNumPy(result)\n",
    "        return result\n",
    "    \n",
    "    def check_rows(self):\n",
    "        \"\"\"\n",
    "        Проверяет корректность переданной матрицы\n",
    "        используется в конструкторе\n",
    "        \"\"\"\n",
    "        lens = set()\n",
    "        for row in self.__matrix:\n",
    "            lens.add(len(row))\n",
    "        if len(lens) > 1:\n",
    "            raise ValueError(\"Incorrect matrix - all rows must have the same lenght\")\n",
    "    \n",
    "    "
   ]
  },
  {
   "cell_type": "markdown",
   "metadata": {},
   "source": [
    "# Tests"
   ]
  },
  {
   "cell_type": "markdown",
   "metadata": {},
   "source": [
    "# Инициализация"
   ]
  },
  {
   "cell_type": "code",
   "execution_count": 18,
   "metadata": {},
   "outputs": [
    {
     "name": "stdout",
     "output_type": "stream",
     "text": [
      "The matrix is not initialized\n",
      "\n"
     ]
    }
   ],
   "source": [
    "a = NashNumPy() # empty\n",
    "print(a)"
   ]
  },
  {
   "cell_type": "code",
   "execution_count": 19,
   "metadata": {},
   "outputs": [
    {
     "name": "stdout",
     "output_type": "stream",
     "text": [
      "`````\n",
      "\n",
      "\n",
      "`````\n"
     ]
    }
   ],
   "source": [
    "a = NashNumPy([]) # empty\n",
    "print('`'*5)\n",
    "print(a)\n",
    "print('`'*5)"
   ]
  },
  {
   "cell_type": "code",
   "execution_count": 20,
   "metadata": {},
   "outputs": [
    {
     "name": "stdout",
     "output_type": "stream",
     "text": [
      "0      1      2      3      4      5      6      7      8      9      10     \n",
      "\n"
     ]
    }
   ],
   "source": [
    "a = NashNumPy(list(range(11))) # 1d list\n",
    "print(a)"
   ]
  },
  {
   "cell_type": "code",
   "execution_count": 21,
   "metadata": {},
   "outputs": [
    {
     "name": "stdout",
     "output_type": "stream",
     "text": [
      "0      1      2      3      4      \n",
      "5      6      7      8      9      \n",
      "10     11     12     13     14     \n",
      "15     16     17     18     19     \n",
      "20     21     22     23     24     \n",
      "\n"
     ]
    }
   ],
   "source": [
    "a = NashNumPy([list(range(5*i, 5*i + 5)) for i in range(5)]) # 2d list\n",
    "print(a)"
   ]
  },
  {
   "cell_type": "code",
   "execution_count": 22,
   "metadata": {},
   "outputs": [
    {
     "ename": "ValueError",
     "evalue": "Incorrect matrix - all rows must have the same lenght",
     "output_type": "error",
     "traceback": [
      "\u001b[1;31m---------------------------------------------------------------------------\u001b[0m",
      "\u001b[1;31mValueError\u001b[0m                                Traceback (most recent call last)",
      "\u001b[1;32m~\\AppData\\Local\\Temp/ipykernel_8488/2990850055.py\u001b[0m in \u001b[0;36m<module>\u001b[1;34m\u001b[0m\n\u001b[0;32m      1\u001b[0m \u001b[1;31m# проверка на корректность двумерной матрицы\u001b[0m\u001b[1;33m\u001b[0m\u001b[1;33m\u001b[0m\u001b[0m\n\u001b[1;32m----> 2\u001b[1;33m a = NashNumPy([[1, 2, 3],\n\u001b[0m\u001b[0;32m      3\u001b[0m               \u001b[1;33m[\u001b[0m\u001b[1;36m4\u001b[0m\u001b[1;33m,\u001b[0m \u001b[1;36m5\u001b[0m\u001b[1;33m,\u001b[0m \u001b[1;36m6\u001b[0m\u001b[1;33m]\u001b[0m\u001b[1;33m,\u001b[0m\u001b[1;33m\u001b[0m\u001b[1;33m\u001b[0m\u001b[0m\n\u001b[0;32m      4\u001b[0m               [7, 8]])\n\u001b[0;32m      5\u001b[0m \u001b[0mprint\u001b[0m\u001b[1;33m(\u001b[0m\u001b[0ma\u001b[0m\u001b[1;33m)\u001b[0m\u001b[1;33m\u001b[0m\u001b[1;33m\u001b[0m\u001b[0m\n",
      "\u001b[1;32m~\\AppData\\Local\\Temp/ipykernel_8488/892376235.py\u001b[0m in \u001b[0;36m__init__\u001b[1;34m(self, matrix)\u001b[0m\n\u001b[0;32m     13\u001b[0m             \u001b[1;32mif\u001b[0m \u001b[0mlen\u001b[0m\u001b[1;33m(\u001b[0m\u001b[0mself\u001b[0m\u001b[1;33m.\u001b[0m\u001b[0m__matrix\u001b[0m\u001b[1;33m)\u001b[0m \u001b[1;33m!=\u001b[0m \u001b[1;36m0\u001b[0m\u001b[1;33m:\u001b[0m\u001b[1;33m\u001b[0m\u001b[1;33m\u001b[0m\u001b[0m\n\u001b[0;32m     14\u001b[0m                 \u001b[1;32mif\u001b[0m \u001b[0misinstance\u001b[0m\u001b[1;33m(\u001b[0m\u001b[0mself\u001b[0m\u001b[1;33m.\u001b[0m\u001b[0m__matrix\u001b[0m\u001b[1;33m[\u001b[0m\u001b[1;36m0\u001b[0m\u001b[1;33m]\u001b[0m\u001b[1;33m,\u001b[0m \u001b[1;33m(\u001b[0m\u001b[0mlist\u001b[0m\u001b[1;33m,\u001b[0m \u001b[0mNashNumPy\u001b[0m\u001b[1;33m)\u001b[0m\u001b[1;33m)\u001b[0m\u001b[1;33m:\u001b[0m\u001b[1;33m\u001b[0m\u001b[1;33m\u001b[0m\u001b[0m\n\u001b[1;32m---> 15\u001b[1;33m                     \u001b[0mself\u001b[0m\u001b[1;33m.\u001b[0m\u001b[0mcheck_rows\u001b[0m\u001b[1;33m(\u001b[0m\u001b[1;33m)\u001b[0m \u001b[1;31m# проверяем корректность двумерной матрицы\u001b[0m\u001b[1;33m\u001b[0m\u001b[1;33m\u001b[0m\u001b[0m\n\u001b[0m\u001b[0;32m     16\u001b[0m                     \u001b[0mself\u001b[0m\u001b[1;33m.\u001b[0m\u001b[0m__M\u001b[0m \u001b[1;33m=\u001b[0m \u001b[0mlen\u001b[0m\u001b[1;33m(\u001b[0m\u001b[0mself\u001b[0m\u001b[1;33m.\u001b[0m\u001b[0m__matrix\u001b[0m\u001b[1;33m[\u001b[0m\u001b[1;36m0\u001b[0m\u001b[1;33m]\u001b[0m\u001b[1;33m)\u001b[0m\u001b[1;33m\u001b[0m\u001b[1;33m\u001b[0m\u001b[0m\n\u001b[0;32m     17\u001b[0m                     \u001b[1;31m# каждая строка будет классом NashNumpy, чтобы не пришлось\u001b[0m\u001b[1;33m\u001b[0m\u001b[1;33m\u001b[0m\u001b[0m\n",
      "\u001b[1;32m~\\AppData\\Local\\Temp/ipykernel_8488/892376235.py\u001b[0m in \u001b[0;36mcheck_rows\u001b[1;34m(self)\u001b[0m\n\u001b[0;32m    255\u001b[0m             \u001b[0mlens\u001b[0m\u001b[1;33m.\u001b[0m\u001b[0madd\u001b[0m\u001b[1;33m(\u001b[0m\u001b[0mlen\u001b[0m\u001b[1;33m(\u001b[0m\u001b[0mrow\u001b[0m\u001b[1;33m)\u001b[0m\u001b[1;33m)\u001b[0m\u001b[1;33m\u001b[0m\u001b[1;33m\u001b[0m\u001b[0m\n\u001b[0;32m    256\u001b[0m         \u001b[1;32mif\u001b[0m \u001b[0mlen\u001b[0m\u001b[1;33m(\u001b[0m\u001b[0mlens\u001b[0m\u001b[1;33m)\u001b[0m \u001b[1;33m>\u001b[0m \u001b[1;36m1\u001b[0m\u001b[1;33m:\u001b[0m\u001b[1;33m\u001b[0m\u001b[1;33m\u001b[0m\u001b[0m\n\u001b[1;32m--> 257\u001b[1;33m             \u001b[1;32mraise\u001b[0m \u001b[0mValueError\u001b[0m\u001b[1;33m(\u001b[0m\u001b[1;34m\"Incorrect matrix - all rows must have the same lenght\"\u001b[0m\u001b[1;33m)\u001b[0m\u001b[1;33m\u001b[0m\u001b[1;33m\u001b[0m\u001b[0m\n\u001b[0m\u001b[0;32m    258\u001b[0m \u001b[1;33m\u001b[0m\u001b[0m\n\u001b[0;32m    259\u001b[0m \u001b[1;33m\u001b[0m\u001b[0m\n",
      "\u001b[1;31mValueError\u001b[0m: Incorrect matrix - all rows must have the same lenght"
     ]
    }
   ],
   "source": [
    "# проверка на корректность двумерной матрицы\n",
    "a = NashNumPy([[1, 2, 3],\n",
    "              [4, 5, 6],\n",
    "              [7, 8]])\n",
    "print(a) "
   ]
  },
  {
   "cell_type": "markdown",
   "metadata": {},
   "source": [
    "# zeros + ones"
   ]
  },
  {
   "cell_type": "code",
   "execution_count": 23,
   "metadata": {},
   "outputs": [
    {
     "name": "stdout",
     "output_type": "stream",
     "text": [
      "0      0      0      \n",
      "0      0      0      \n",
      "0      0      0      \n",
      "\n"
     ]
    }
   ],
   "source": [
    "a = NashNumPy()\n",
    "a.zeros(3)\n",
    "print(a)"
   ]
  },
  {
   "cell_type": "code",
   "execution_count": 24,
   "metadata": {},
   "outputs": [
    {
     "name": "stdout",
     "output_type": "stream",
     "text": [
      "0      0      0      \n",
      "\n"
     ]
    }
   ],
   "source": [
    "a = NashNumPy()\n",
    "a.zeros((1, 3))\n",
    "print(a)"
   ]
  },
  {
   "cell_type": "code",
   "execution_count": 25,
   "metadata": {},
   "outputs": [
    {
     "name": "stdout",
     "output_type": "stream",
     "text": [
      "0      0      0      0      0      0      \n",
      "0      0      0      0      0      0      \n",
      "0      0      0      0      0      0      \n",
      "0      0      0      0      0      0      \n",
      "\n"
     ]
    }
   ],
   "source": [
    "a = NashNumPy()\n",
    "a.zeros((4, 6))\n",
    "print(a)"
   ]
  },
  {
   "cell_type": "code",
   "execution_count": 26,
   "metadata": {},
   "outputs": [
    {
     "name": "stdout",
     "output_type": "stream",
     "text": [
      "1      1      1      \n",
      "1      1      1      \n",
      "1      1      1      \n",
      "\n"
     ]
    }
   ],
   "source": [
    "a = NashNumPy()\n",
    "a.ones(3)\n",
    "print(a)"
   ]
  },
  {
   "cell_type": "code",
   "execution_count": 27,
   "metadata": {},
   "outputs": [
    {
     "name": "stdout",
     "output_type": "stream",
     "text": [
      "1      1      1      \n",
      "\n"
     ]
    }
   ],
   "source": [
    "a = NashNumPy()\n",
    "a.ones((1, 3))\n",
    "print(a)"
   ]
  },
  {
   "cell_type": "code",
   "execution_count": 28,
   "metadata": {},
   "outputs": [
    {
     "name": "stdout",
     "output_type": "stream",
     "text": [
      "1      1      1      1      1      1      \n",
      "1      1      1      1      1      1      \n",
      "1      1      1      1      1      1      \n",
      "1      1      1      1      1      1      \n",
      "\n"
     ]
    }
   ],
   "source": [
    "a = NashNumPy()\n",
    "a.ones((4, 6))\n",
    "print(a)"
   ]
  },
  {
   "cell_type": "markdown",
   "metadata": {},
   "source": [
    "# Единичная"
   ]
  },
  {
   "cell_type": "code",
   "execution_count": 29,
   "metadata": {},
   "outputs": [
    {
     "name": "stdout",
     "output_type": "stream",
     "text": [
      "1      0      0      0      0      \n",
      "0      1      0      0      0      \n",
      "0      0      1      0      0      \n",
      "0      0      0      1      0      \n",
      "0      0      0      0      1      \n",
      "\n"
     ]
    }
   ],
   "source": [
    "a = NashNumPy()\n",
    "a.eye(5)\n",
    "print(a)"
   ]
  },
  {
   "cell_type": "code",
   "execution_count": 30,
   "metadata": {},
   "outputs": [
    {
     "ename": "ValueError",
     "evalue": "identity matrix must be square",
     "output_type": "error",
     "traceback": [
      "\u001b[1;31m---------------------------------------------------------------------------\u001b[0m",
      "\u001b[1;31mValueError\u001b[0m                                Traceback (most recent call last)",
      "\u001b[1;32m~\\AppData\\Local\\Temp/ipykernel_8488/2709472372.py\u001b[0m in \u001b[0;36m<module>\u001b[1;34m\u001b[0m\n\u001b[0;32m      1\u001b[0m \u001b[0ma\u001b[0m \u001b[1;33m=\u001b[0m \u001b[0mNashNumPy\u001b[0m\u001b[1;33m(\u001b[0m\u001b[1;33m)\u001b[0m\u001b[1;33m\u001b[0m\u001b[1;33m\u001b[0m\u001b[0m\n\u001b[1;32m----> 2\u001b[1;33m \u001b[0ma\u001b[0m\u001b[1;33m.\u001b[0m\u001b[0meye\u001b[0m\u001b[1;33m(\u001b[0m\u001b[1;33m(\u001b[0m\u001b[1;36m2\u001b[0m\u001b[1;33m,\u001b[0m \u001b[1;36m3\u001b[0m\u001b[1;33m)\u001b[0m\u001b[1;33m)\u001b[0m \u001b[1;31m# так не получится\u001b[0m\u001b[1;33m\u001b[0m\u001b[1;33m\u001b[0m\u001b[0m\n\u001b[0m\u001b[0;32m      3\u001b[0m \u001b[0mprint\u001b[0m\u001b[1;33m(\u001b[0m\u001b[0ma\u001b[0m\u001b[1;33m)\u001b[0m\u001b[1;33m\u001b[0m\u001b[1;33m\u001b[0m\u001b[0m\n",
      "\u001b[1;32m~\\AppData\\Local\\Temp/ipykernel_8488/892376235.py\u001b[0m in \u001b[0;36meye\u001b[1;34m(self, dims)\u001b[0m\n\u001b[0;32m    165\u001b[0m     \u001b[1;32mdef\u001b[0m \u001b[0meye\u001b[0m\u001b[1;33m(\u001b[0m\u001b[0mself\u001b[0m\u001b[1;33m,\u001b[0m \u001b[0mdims\u001b[0m\u001b[1;33m:\u001b[0m \u001b[0mint\u001b[0m\u001b[1;33m)\u001b[0m\u001b[1;33m:\u001b[0m\u001b[1;33m\u001b[0m\u001b[1;33m\u001b[0m\u001b[0m\n\u001b[0;32m    166\u001b[0m         \u001b[1;32mif\u001b[0m \u001b[1;32mnot\u001b[0m \u001b[0misinstance\u001b[0m\u001b[1;33m(\u001b[0m\u001b[0mdims\u001b[0m\u001b[1;33m,\u001b[0m \u001b[0mint\u001b[0m\u001b[1;33m)\u001b[0m\u001b[1;33m:\u001b[0m\u001b[1;33m\u001b[0m\u001b[1;33m\u001b[0m\u001b[0m\n\u001b[1;32m--> 167\u001b[1;33m             \u001b[1;32mraise\u001b[0m \u001b[0mValueError\u001b[0m\u001b[1;33m(\u001b[0m\u001b[1;34m\"identity matrix must be square\"\u001b[0m\u001b[1;33m)\u001b[0m\u001b[1;33m\u001b[0m\u001b[1;33m\u001b[0m\u001b[0m\n\u001b[0m\u001b[0;32m    168\u001b[0m         \u001b[0mself\u001b[0m\u001b[1;33m.\u001b[0m\u001b[0mzeros\u001b[0m\u001b[1;33m(\u001b[0m\u001b[0mdims\u001b[0m\u001b[1;33m)\u001b[0m\u001b[1;33m\u001b[0m\u001b[1;33m\u001b[0m\u001b[0m\n\u001b[0;32m    169\u001b[0m         \u001b[1;32mfor\u001b[0m \u001b[0mi\u001b[0m \u001b[1;32min\u001b[0m \u001b[0mrange\u001b[0m\u001b[1;33m(\u001b[0m\u001b[0mself\u001b[0m\u001b[1;33m.\u001b[0m\u001b[0m__N\u001b[0m\u001b[1;33m)\u001b[0m\u001b[1;33m:\u001b[0m\u001b[1;33m\u001b[0m\u001b[1;33m\u001b[0m\u001b[0m\n",
      "\u001b[1;31mValueError\u001b[0m: identity matrix must be square"
     ]
    }
   ],
   "source": [
    "a = NashNumPy()\n",
    "a.eye((2, 3)) # так не получится\n",
    "print(a)"
   ]
  },
  {
   "cell_type": "markdown",
   "metadata": {},
   "source": [
    "# фукция len"
   ]
  },
  {
   "cell_type": "code",
   "execution_count": 31,
   "metadata": {},
   "outputs": [
    {
     "name": "stdout",
     "output_type": "stream",
     "text": [
      "11\n"
     ]
    }
   ],
   "source": [
    "a = NashNumPy(list(range(11))) # 1d list\n",
    "print(len(a))"
   ]
  },
  {
   "cell_type": "code",
   "execution_count": 32,
   "metadata": {},
   "outputs": [
    {
     "name": "stdout",
     "output_type": "stream",
     "text": [
      "5\n"
     ]
    }
   ],
   "source": [
    "a = NashNumPy([list(range(5*i, 5*i + 5)) for i in range(5)]) # 2d list\n",
    "print(len(a))"
   ]
  },
  {
   "cell_type": "markdown",
   "metadata": {},
   "source": [
    "# shape"
   ]
  },
  {
   "cell_type": "code",
   "execution_count": 33,
   "metadata": {},
   "outputs": [
    {
     "name": "stdout",
     "output_type": "stream",
     "text": [
      "(11, None)\n"
     ]
    }
   ],
   "source": [
    "a = NashNumPy(list(range(11))) # 1d list\n",
    "print(a.shape())"
   ]
  },
  {
   "cell_type": "code",
   "execution_count": 34,
   "metadata": {},
   "outputs": [
    {
     "name": "stdout",
     "output_type": "stream",
     "text": [
      "(5, 5)\n"
     ]
    }
   ],
   "source": [
    "a = NashNumPy([list(range(5*i, 5*i + 5)) for i in range(5)]) # 2d list\n",
    "print(a.shape())"
   ]
  },
  {
   "cell_type": "markdown",
   "metadata": {},
   "source": [
    "# индексирование"
   ]
  },
  {
   "cell_type": "code",
   "execution_count": 35,
   "metadata": {},
   "outputs": [
    {
     "name": "stdout",
     "output_type": "stream",
     "text": [
      "0      1      2      3      4      5      6      7      8      9      10     \n",
      "\n"
     ]
    }
   ],
   "source": [
    "a = NashNumPy(list(range(11))) # 1d list\n",
    "print(a)"
   ]
  },
  {
   "cell_type": "code",
   "execution_count": 36,
   "metadata": {},
   "outputs": [
    {
     "data": {
      "text/plain": [
       "5"
      ]
     },
     "execution_count": 36,
     "metadata": {},
     "output_type": "execute_result"
    }
   ],
   "source": [
    "a[5]"
   ]
  },
  {
   "cell_type": "code",
   "execution_count": 37,
   "metadata": {},
   "outputs": [
    {
     "data": {
      "text/plain": [
       "10"
      ]
     },
     "execution_count": 37,
     "metadata": {},
     "output_type": "execute_result"
    }
   ],
   "source": [
    "a[10] # обработали случай выхода за границы"
   ]
  },
  {
   "cell_type": "code",
   "execution_count": 38,
   "metadata": {},
   "outputs": [
    {
     "ename": "IndexError",
     "evalue": "There only 1 dimension",
     "output_type": "error",
     "traceback": [
      "\u001b[1;31m---------------------------------------------------------------------------\u001b[0m",
      "\u001b[1;31mIndexError\u001b[0m                                Traceback (most recent call last)",
      "\u001b[1;32m~\\AppData\\Local\\Temp/ipykernel_8488/2356919066.py\u001b[0m in \u001b[0;36m<module>\u001b[1;34m\u001b[0m\n\u001b[1;32m----> 1\u001b[1;33m \u001b[0ma\u001b[0m\u001b[1;33m[\u001b[0m\u001b[1;36m5\u001b[0m\u001b[1;33m,\u001b[0m \u001b[1;36m2\u001b[0m\u001b[1;33m]\u001b[0m \u001b[1;31m# а-а-а так не получится\u001b[0m\u001b[1;33m\u001b[0m\u001b[1;33m\u001b[0m\u001b[0m\n\u001b[0m",
      "\u001b[1;32m~\\AppData\\Local\\Temp/ipykernel_8488/892376235.py\u001b[0m in \u001b[0;36m__getitem__\u001b[1;34m(self, ind)\u001b[0m\n\u001b[0;32m    120\u001b[0m                 \u001b[1;32mraise\u001b[0m \u001b[0mIndexError\u001b[0m\u001b[1;33m(\u001b[0m\u001b[1;34m\"NashNumPy supports not more than 2 dims\"\u001b[0m\u001b[1;33m)\u001b[0m\u001b[1;33m\u001b[0m\u001b[1;33m\u001b[0m\u001b[0m\n\u001b[0;32m    121\u001b[0m             \u001b[1;32mif\u001b[0m \u001b[0mself\u001b[0m\u001b[1;33m.\u001b[0m\u001b[0m__M\u001b[0m \u001b[1;32mis\u001b[0m \u001b[1;32mNone\u001b[0m\u001b[1;33m:\u001b[0m\u001b[1;33m\u001b[0m\u001b[1;33m\u001b[0m\u001b[0m\n\u001b[1;32m--> 122\u001b[1;33m                 \u001b[1;32mraise\u001b[0m \u001b[0mIndexError\u001b[0m\u001b[1;33m(\u001b[0m\u001b[1;34m\"There only 1 dimension\"\u001b[0m\u001b[1;33m)\u001b[0m\u001b[1;33m\u001b[0m\u001b[1;33m\u001b[0m\u001b[0m\n\u001b[0m\u001b[0;32m    123\u001b[0m             \u001b[0mi\u001b[0m\u001b[1;33m,\u001b[0m \u001b[0mj\u001b[0m \u001b[1;33m=\u001b[0m \u001b[0mind\u001b[0m\u001b[1;33m\u001b[0m\u001b[1;33m\u001b[0m\u001b[0m\n\u001b[0;32m    124\u001b[0m             \u001b[1;32mif\u001b[0m \u001b[0mi\u001b[0m \u001b[1;33m>=\u001b[0m \u001b[0mself\u001b[0m\u001b[1;33m.\u001b[0m\u001b[0m__N\u001b[0m \u001b[1;32mor\u001b[0m \u001b[0mj\u001b[0m \u001b[1;33m>=\u001b[0m \u001b[0mself\u001b[0m\u001b[1;33m.\u001b[0m\u001b[0m__M\u001b[0m\u001b[1;33m:\u001b[0m\u001b[1;33m\u001b[0m\u001b[1;33m\u001b[0m\u001b[0m\n",
      "\u001b[1;31mIndexError\u001b[0m: There only 1 dimension"
     ]
    }
   ],
   "source": [
    "a[5, 2] # а-а-а так не получится"
   ]
  },
  {
   "cell_type": "code",
   "execution_count": 39,
   "metadata": {},
   "outputs": [
    {
     "name": "stdout",
     "output_type": "stream",
     "text": [
      "0      1      2      3      4      \n",
      "5      6      7      8      9      \n",
      "10     11     12     13     14     \n",
      "15     16     17     18     19     \n",
      "20     21     22     23     24     \n",
      "\n"
     ]
    }
   ],
   "source": [
    "a = NashNumPy([list(range(5*i, 5*i + 5)) for i in range(5)]) # 2d list\n",
    "print(a)"
   ]
  },
  {
   "cell_type": "code",
   "execution_count": 40,
   "metadata": {},
   "outputs": [
    {
     "data": {
      "text/plain": [
       "14"
      ]
     },
     "execution_count": 40,
     "metadata": {},
     "output_type": "execute_result"
    }
   ],
   "source": [
    "a[2, 4]"
   ]
  },
  {
   "cell_type": "code",
   "execution_count": 41,
   "metadata": {},
   "outputs": [
    {
     "data": {
      "text/plain": [
       "<__main__.NashNumPy at 0x15cfc092700>"
      ]
     },
     "execution_count": 41,
     "metadata": {},
     "output_type": "execute_result"
    }
   ],
   "source": [
    "a[0]"
   ]
  },
  {
   "cell_type": "code",
   "execution_count": 42,
   "metadata": {},
   "outputs": [
    {
     "name": "stdout",
     "output_type": "stream",
     "text": [
      "0      1      2      3      4      \n",
      "\n"
     ]
    }
   ],
   "source": [
    "print(a[0])"
   ]
  },
  {
   "cell_type": "markdown",
   "metadata": {},
   "source": [
    "# apply"
   ]
  },
  {
   "cell_type": "code",
   "execution_count": 43,
   "metadata": {},
   "outputs": [
    {
     "name": "stdout",
     "output_type": "stream",
     "text": [
      "1      2      3      \n",
      "4      5      6      \n",
      "\n",
      "1      4      9      \n",
      "16     25     36     \n",
      "\n"
     ]
    }
   ],
   "source": [
    "a = NashNumPy([[1, 2, 3],\n",
    "              [4, 5, 6]])\n",
    "print(a)\n",
    "print(a.apply(lambda x: x*x))"
   ]
  },
  {
   "cell_type": "markdown",
   "metadata": {},
   "source": [
    "# matrix +"
   ]
  },
  {
   "cell_type": "code",
   "execution_count": 44,
   "metadata": {},
   "outputs": [
    {
     "name": "stdout",
     "output_type": "stream",
     "text": [
      "7      7      7      \n",
      "7      7      7      \n",
      "\n"
     ]
    }
   ],
   "source": [
    "a = NashNumPy([[1, 2, 3],\n",
    "              [4, 5, 6]])\n",
    "b = NashNumPy([[6, 5, 4],\n",
    "              [3, 2, 1]])\n",
    "\n",
    "c = a + b\n",
    "print(c)"
   ]
  },
  {
   "cell_type": "code",
   "execution_count": 45,
   "metadata": {},
   "outputs": [
    {
     "ename": "ValueError",
     "evalue": "The dimensions must be same",
     "output_type": "error",
     "traceback": [
      "\u001b[1;31m---------------------------------------------------------------------------\u001b[0m",
      "\u001b[1;31mValueError\u001b[0m                                Traceback (most recent call last)",
      "\u001b[1;32m~\\AppData\\Local\\Temp/ipykernel_8488/2163713623.py\u001b[0m in \u001b[0;36m<module>\u001b[1;34m\u001b[0m\n\u001b[0;32m      4\u001b[0m \u001b[0mb\u001b[0m \u001b[1;33m=\u001b[0m \u001b[0mNashNumPy\u001b[0m\u001b[1;33m(\u001b[0m\u001b[1;33m[\u001b[0m\u001b[1;36m6\u001b[0m\u001b[1;33m,\u001b[0m \u001b[1;36m5\u001b[0m\u001b[1;33m,\u001b[0m \u001b[1;36m4\u001b[0m\u001b[1;33m]\u001b[0m\u001b[1;33m)\u001b[0m\u001b[1;33m\u001b[0m\u001b[1;33m\u001b[0m\u001b[0m\n\u001b[0;32m      5\u001b[0m \u001b[1;33m\u001b[0m\u001b[0m\n\u001b[1;32m----> 6\u001b[1;33m \u001b[0mc\u001b[0m \u001b[1;33m=\u001b[0m \u001b[0ma\u001b[0m \u001b[1;33m+\u001b[0m \u001b[0mb\u001b[0m\u001b[1;33m\u001b[0m\u001b[1;33m\u001b[0m\u001b[0m\n\u001b[0m\u001b[0;32m      7\u001b[0m \u001b[0mprint\u001b[0m\u001b[1;33m(\u001b[0m\u001b[0mc\u001b[0m\u001b[1;33m)\u001b[0m\u001b[1;33m\u001b[0m\u001b[1;33m\u001b[0m\u001b[0m\n",
      "\u001b[1;32m~\\AppData\\Local\\Temp/ipykernel_8488/892376235.py\u001b[0m in \u001b[0;36m__add__\u001b[1;34m(self, other)\u001b[0m\n\u001b[0;32m     60\u001b[0m \u001b[1;33m\u001b[0m\u001b[0m\n\u001b[0;32m     61\u001b[0m         \u001b[1;32mif\u001b[0m \u001b[0mself\u001b[0m\u001b[1;33m.\u001b[0m\u001b[0m__N\u001b[0m \u001b[1;33m!=\u001b[0m \u001b[0mother\u001b[0m\u001b[1;33m.\u001b[0m\u001b[0m__N\u001b[0m \u001b[1;32mor\u001b[0m \u001b[0mself\u001b[0m\u001b[1;33m.\u001b[0m\u001b[0m__M\u001b[0m \u001b[1;33m!=\u001b[0m \u001b[0mother\u001b[0m\u001b[1;33m.\u001b[0m\u001b[0m__M\u001b[0m\u001b[1;33m:\u001b[0m\u001b[1;33m\u001b[0m\u001b[1;33m\u001b[0m\u001b[0m\n\u001b[1;32m---> 62\u001b[1;33m             \u001b[1;32mraise\u001b[0m \u001b[0mValueError\u001b[0m\u001b[1;33m(\u001b[0m\u001b[1;34m\"The dimensions must be same\"\u001b[0m\u001b[1;33m)\u001b[0m\u001b[1;33m\u001b[0m\u001b[1;33m\u001b[0m\u001b[0m\n\u001b[0m\u001b[0;32m     63\u001b[0m \u001b[1;33m\u001b[0m\u001b[0m\n\u001b[0;32m     64\u001b[0m         \u001b[0mresult\u001b[0m \u001b[1;33m=\u001b[0m \u001b[1;33m[\u001b[0m\u001b[1;33m]\u001b[0m\u001b[1;33m\u001b[0m\u001b[1;33m\u001b[0m\u001b[0m\n",
      "\u001b[1;31mValueError\u001b[0m: The dimensions must be same"
     ]
    }
   ],
   "source": [
    "# если невозможно\n",
    "a = NashNumPy([[1, 2, 3],\n",
    "              [4, 5, 6]])\n",
    "b = NashNumPy([6, 5, 4])\n",
    "\n",
    "c = a + b\n",
    "print(c)"
   ]
  },
  {
   "cell_type": "code",
   "execution_count": 46,
   "metadata": {},
   "outputs": [
    {
     "name": "stdout",
     "output_type": "stream",
     "text": [
      "7      7      7      \n",
      "7      7      7      \n",
      "\n"
     ]
    }
   ],
   "source": [
    "# неявное проебразование\n",
    "a = NashNumPy([[1, 2, 3],\n",
    "              [4, 5, 6]])\n",
    "\n",
    "c = a + [[6, 5, 4], [3, 2, 1]]\n",
    "print(c)"
   ]
  },
  {
   "cell_type": "markdown",
   "metadata": {},
   "source": [
    "# matrix -"
   ]
  },
  {
   "cell_type": "code",
   "execution_count": 47,
   "metadata": {},
   "outputs": [
    {
     "name": "stdout",
     "output_type": "stream",
     "text": [
      "-5     -3     -1     \n",
      "1      3      5      \n",
      "\n"
     ]
    }
   ],
   "source": [
    "a = NashNumPy([[1, 2, 3],\n",
    "              [4, 5, 6]])\n",
    "b = NashNumPy([[6, 5, 4],\n",
    "              [3, 2, 1]])\n",
    "\n",
    "c = a - b\n",
    "print(c)"
   ]
  },
  {
   "cell_type": "code",
   "execution_count": 48,
   "metadata": {},
   "outputs": [
    {
     "ename": "ValueError",
     "evalue": "The dimensions must be same",
     "output_type": "error",
     "traceback": [
      "\u001b[1;31m---------------------------------------------------------------------------\u001b[0m",
      "\u001b[1;31mValueError\u001b[0m                                Traceback (most recent call last)",
      "\u001b[1;32m~\\AppData\\Local\\Temp/ipykernel_8488/677404764.py\u001b[0m in \u001b[0;36m<module>\u001b[1;34m\u001b[0m\n\u001b[0;32m      4\u001b[0m \u001b[0mb\u001b[0m \u001b[1;33m=\u001b[0m \u001b[0mNashNumPy\u001b[0m\u001b[1;33m(\u001b[0m\u001b[1;33m[\u001b[0m\u001b[1;36m6\u001b[0m\u001b[1;33m,\u001b[0m \u001b[1;36m5\u001b[0m\u001b[1;33m,\u001b[0m \u001b[1;36m4\u001b[0m\u001b[1;33m]\u001b[0m\u001b[1;33m)\u001b[0m\u001b[1;33m\u001b[0m\u001b[1;33m\u001b[0m\u001b[0m\n\u001b[0;32m      5\u001b[0m \u001b[1;33m\u001b[0m\u001b[0m\n\u001b[1;32m----> 6\u001b[1;33m \u001b[0mc\u001b[0m \u001b[1;33m=\u001b[0m \u001b[0ma\u001b[0m \u001b[1;33m-\u001b[0m \u001b[0mb\u001b[0m\u001b[1;33m\u001b[0m\u001b[1;33m\u001b[0m\u001b[0m\n\u001b[0m\u001b[0;32m      7\u001b[0m \u001b[0mprint\u001b[0m\u001b[1;33m(\u001b[0m\u001b[0mc\u001b[0m\u001b[1;33m)\u001b[0m\u001b[1;33m\u001b[0m\u001b[1;33m\u001b[0m\u001b[0m\n",
      "\u001b[1;32m~\\AppData\\Local\\Temp/ipykernel_8488/892376235.py\u001b[0m in \u001b[0;36m__sub__\u001b[1;34m(self, other)\u001b[0m\n\u001b[0;32m     82\u001b[0m \u001b[1;33m\u001b[0m\u001b[0m\n\u001b[0;32m     83\u001b[0m         \u001b[1;32mif\u001b[0m \u001b[0mself\u001b[0m\u001b[1;33m.\u001b[0m\u001b[0m__N\u001b[0m \u001b[1;33m!=\u001b[0m \u001b[0mother\u001b[0m\u001b[1;33m.\u001b[0m\u001b[0m__N\u001b[0m \u001b[1;32mor\u001b[0m \u001b[0mself\u001b[0m\u001b[1;33m.\u001b[0m\u001b[0m__M\u001b[0m \u001b[1;33m!=\u001b[0m \u001b[0mother\u001b[0m\u001b[1;33m.\u001b[0m\u001b[0m__M\u001b[0m\u001b[1;33m:\u001b[0m\u001b[1;33m\u001b[0m\u001b[1;33m\u001b[0m\u001b[0m\n\u001b[1;32m---> 84\u001b[1;33m             \u001b[1;32mraise\u001b[0m \u001b[0mValueError\u001b[0m\u001b[1;33m(\u001b[0m\u001b[1;34m\"The dimensions must be same\"\u001b[0m\u001b[1;33m)\u001b[0m\u001b[1;33m\u001b[0m\u001b[1;33m\u001b[0m\u001b[0m\n\u001b[0m\u001b[0;32m     85\u001b[0m \u001b[1;33m\u001b[0m\u001b[0m\n\u001b[0;32m     86\u001b[0m         \u001b[0mresult\u001b[0m \u001b[1;33m=\u001b[0m \u001b[1;33m[\u001b[0m\u001b[1;33m]\u001b[0m\u001b[1;33m\u001b[0m\u001b[1;33m\u001b[0m\u001b[0m\n",
      "\u001b[1;31mValueError\u001b[0m: The dimensions must be same"
     ]
    }
   ],
   "source": [
    "# если невозможно\n",
    "a = NashNumPy([[1, 2, 3],\n",
    "              [4, 5, 6]])\n",
    "b = NashNumPy([6, 5, 4])\n",
    "\n",
    "c = a - b\n",
    "print(c)"
   ]
  },
  {
   "cell_type": "code",
   "execution_count": 49,
   "metadata": {},
   "outputs": [
    {
     "name": "stdout",
     "output_type": "stream",
     "text": [
      "-5     -3     -1     \n",
      "1      3      5      \n",
      "\n"
     ]
    }
   ],
   "source": [
    "# неявное проебразование\n",
    "a = NashNumPy([[1, 2, 3],\n",
    "              [4, 5, 6]])\n",
    "\n",
    "c = a - [[6, 5, 4], [3, 2, 1]]\n",
    "print(c)"
   ]
  },
  {
   "cell_type": "markdown",
   "metadata": {},
   "source": [
    "# матричное произведение"
   ]
  },
  {
   "cell_type": "code",
   "execution_count": 50,
   "metadata": {},
   "outputs": [
    {
     "name": "stdout",
     "output_type": "stream",
     "text": [
      "a: (2, 3)\n",
      "b: (3, 2)\n",
      "\n",
      "76     82     \n",
      "184    199    \n",
      "\n"
     ]
    }
   ],
   "source": [
    "# работает правильно!!! я проверил на калькуляторе)))\n",
    "\n",
    "a = NashNumPy([[1, 2, 3],\n",
    "              [4, 5, 6]])\n",
    "b = NashNumPy([[10, 11],\n",
    "              [12, 13],\n",
    "              [14, 15]])\n",
    "print(f'a: {a.shape()}')\n",
    "print(f'b: {b.shape()}')\n",
    "print()\n",
    "\n",
    "print(a.dot(b))"
   ]
  },
  {
   "cell_type": "code",
   "execution_count": 51,
   "metadata": {},
   "outputs": [
    {
     "name": "stdout",
     "output_type": "stream",
     "text": [
      "a: (3, 3)\n",
      "b: (3, 1)\n",
      "\n",
      "6      \n",
      "15     \n",
      "24     \n",
      "\n"
     ]
    }
   ],
   "source": [
    "a = NashNumPy([[1, 2, 3],\n",
    "              [4, 5, 6],\n",
    "              [7, 8, 9]])\n",
    "b = NashNumPy([[1],\n",
    "               [1],\n",
    "               [1]])\n",
    "print(f'a: {a.shape()}')\n",
    "print(f'b: {b.shape()}')\n",
    "print()\n",
    "\n",
    "print(a.dot(b))"
   ]
  },
  {
   "cell_type": "code",
   "execution_count": 52,
   "metadata": {},
   "outputs": [
    {
     "name": "stdout",
     "output_type": "stream",
     "text": [
      "a: (2, 3)\n",
      "b: (2, 2)\n",
      "\n"
     ]
    },
    {
     "ename": "ValueError",
     "evalue": "matrix multiply is impossible",
     "output_type": "error",
     "traceback": [
      "\u001b[1;31m---------------------------------------------------------------------------\u001b[0m",
      "\u001b[1;31mValueError\u001b[0m                                Traceback (most recent call last)",
      "\u001b[1;32m~\\AppData\\Local\\Temp/ipykernel_8488/2679888873.py\u001b[0m in \u001b[0;36m<module>\u001b[1;34m\u001b[0m\n\u001b[0;32m      7\u001b[0m \u001b[0mprint\u001b[0m\u001b[1;33m(\u001b[0m\u001b[1;33m)\u001b[0m\u001b[1;33m\u001b[0m\u001b[1;33m\u001b[0m\u001b[0m\n\u001b[0;32m      8\u001b[0m \u001b[1;33m\u001b[0m\u001b[0m\n\u001b[1;32m----> 9\u001b[1;33m \u001b[0mprint\u001b[0m\u001b[1;33m(\u001b[0m\u001b[0ma\u001b[0m\u001b[1;33m.\u001b[0m\u001b[0mdot\u001b[0m\u001b[1;33m(\u001b[0m\u001b[0mb\u001b[0m\u001b[1;33m)\u001b[0m\u001b[1;33m)\u001b[0m\u001b[1;33m\u001b[0m\u001b[1;33m\u001b[0m\u001b[0m\n\u001b[0m",
      "\u001b[1;32m~\\AppData\\Local\\Temp/ipykernel_8488/892376235.py\u001b[0m in \u001b[0;36mdot\u001b[1;34m(self, other)\u001b[0m\n\u001b[0;32m    193\u001b[0m             \u001b[0mother\u001b[0m \u001b[1;33m=\u001b[0m \u001b[0mNashNumPy\u001b[0m\u001b[1;33m(\u001b[0m\u001b[0mother\u001b[0m\u001b[1;33m)\u001b[0m\u001b[1;33m\u001b[0m\u001b[1;33m\u001b[0m\u001b[0m\n\u001b[0;32m    194\u001b[0m         \u001b[1;32mif\u001b[0m \u001b[0mself\u001b[0m\u001b[1;33m.\u001b[0m\u001b[0m__M\u001b[0m \u001b[1;33m!=\u001b[0m \u001b[0mother\u001b[0m\u001b[1;33m.\u001b[0m\u001b[0m__N\u001b[0m\u001b[1;33m:\u001b[0m\u001b[1;33m\u001b[0m\u001b[1;33m\u001b[0m\u001b[0m\n\u001b[1;32m--> 195\u001b[1;33m             \u001b[1;32mraise\u001b[0m \u001b[0mValueError\u001b[0m\u001b[1;33m(\u001b[0m\u001b[1;34m\"matrix multiply is impossible\"\u001b[0m\u001b[1;33m)\u001b[0m\u001b[1;33m\u001b[0m\u001b[1;33m\u001b[0m\u001b[0m\n\u001b[0m\u001b[0;32m    196\u001b[0m \u001b[1;33m\u001b[0m\u001b[0m\n\u001b[0;32m    197\u001b[0m         \u001b[1;31m# стандартный алгоритм, без выкрутасов))\u001b[0m\u001b[1;33m\u001b[0m\u001b[1;33m\u001b[0m\u001b[0m\n",
      "\u001b[1;31mValueError\u001b[0m: matrix multiply is impossible"
     ]
    }
   ],
   "source": [
    "a = NashNumPy([[1, 2, 3],\n",
    "              [4, 5, 6]])\n",
    "b = NashNumPy([[10, 11],\n",
    "              [12, 13]])\n",
    "print(f'a: {a.shape()}')\n",
    "print(f'b: {b.shape()}')\n",
    "print()\n",
    "\n",
    "print(a.dot(b))"
   ]
  },
  {
   "cell_type": "code",
   "execution_count": 53,
   "metadata": {},
   "outputs": [
    {
     "name": "stdout",
     "output_type": "stream",
     "text": [
      "76     82     \n",
      "184    199    \n",
      "\n"
     ]
    }
   ],
   "source": [
    "# неявное проебразование\n",
    "a = NashNumPy([[1, 2, 3],\n",
    "              [4, 5, 6]])\n",
    "\n",
    "print(a.dot([[10, 11],\n",
    "              [12, 13],\n",
    "              [14, 15]]))"
   ]
  },
  {
   "cell_type": "code",
   "execution_count": 54,
   "metadata": {},
   "outputs": [
    {
     "name": "stdout",
     "output_type": "stream",
     "text": [
      "1      2      3      \n",
      "4      5      6      \n",
      "\n"
     ]
    }
   ],
   "source": [
    "# произведение на единичную\n",
    "\n",
    "a = NashNumPy([[1, 2, 3],\n",
    "              [4, 5, 6]])\n",
    "I = NashNumPy()\n",
    "I.eye(a.shape()[-1])\n",
    "\n",
    "print(a.dot(I))"
   ]
  },
  {
   "cell_type": "markdown",
   "metadata": {},
   "source": [
    "#  произведение Адамара"
   ]
  },
  {
   "cell_type": "code",
   "execution_count": 55,
   "metadata": {},
   "outputs": [
    {
     "name": "stdout",
     "output_type": "stream",
     "text": [
      "6      10     12     \n",
      "12     10     6      \n",
      "\n"
     ]
    }
   ],
   "source": [
    "a = NashNumPy([[1, 2, 3],\n",
    "              [4, 5, 6]])\n",
    "b = NashNumPy([[6, 5, 4],\n",
    "              [3, 2, 1]])\n",
    "\n",
    "c = a * b\n",
    "print(c)"
   ]
  },
  {
   "cell_type": "code",
   "execution_count": 56,
   "metadata": {},
   "outputs": [
    {
     "ename": "ValueError",
     "evalue": "The dimensions must be same",
     "output_type": "error",
     "traceback": [
      "\u001b[1;31m---------------------------------------------------------------------------\u001b[0m",
      "\u001b[1;31mValueError\u001b[0m                                Traceback (most recent call last)",
      "\u001b[1;32m~\\AppData\\Local\\Temp/ipykernel_8488/677404764.py\u001b[0m in \u001b[0;36m<module>\u001b[1;34m\u001b[0m\n\u001b[0;32m      4\u001b[0m \u001b[0mb\u001b[0m \u001b[1;33m=\u001b[0m \u001b[0mNashNumPy\u001b[0m\u001b[1;33m(\u001b[0m\u001b[1;33m[\u001b[0m\u001b[1;36m6\u001b[0m\u001b[1;33m,\u001b[0m \u001b[1;36m5\u001b[0m\u001b[1;33m,\u001b[0m \u001b[1;36m4\u001b[0m\u001b[1;33m]\u001b[0m\u001b[1;33m)\u001b[0m\u001b[1;33m\u001b[0m\u001b[1;33m\u001b[0m\u001b[0m\n\u001b[0;32m      5\u001b[0m \u001b[1;33m\u001b[0m\u001b[0m\n\u001b[1;32m----> 6\u001b[1;33m \u001b[0mc\u001b[0m \u001b[1;33m=\u001b[0m \u001b[0ma\u001b[0m \u001b[1;33m-\u001b[0m \u001b[0mb\u001b[0m\u001b[1;33m\u001b[0m\u001b[1;33m\u001b[0m\u001b[0m\n\u001b[0m\u001b[0;32m      7\u001b[0m \u001b[0mprint\u001b[0m\u001b[1;33m(\u001b[0m\u001b[0mc\u001b[0m\u001b[1;33m)\u001b[0m\u001b[1;33m\u001b[0m\u001b[1;33m\u001b[0m\u001b[0m\n",
      "\u001b[1;32m~\\AppData\\Local\\Temp/ipykernel_8488/892376235.py\u001b[0m in \u001b[0;36m__sub__\u001b[1;34m(self, other)\u001b[0m\n\u001b[0;32m     82\u001b[0m \u001b[1;33m\u001b[0m\u001b[0m\n\u001b[0;32m     83\u001b[0m         \u001b[1;32mif\u001b[0m \u001b[0mself\u001b[0m\u001b[1;33m.\u001b[0m\u001b[0m__N\u001b[0m \u001b[1;33m!=\u001b[0m \u001b[0mother\u001b[0m\u001b[1;33m.\u001b[0m\u001b[0m__N\u001b[0m \u001b[1;32mor\u001b[0m \u001b[0mself\u001b[0m\u001b[1;33m.\u001b[0m\u001b[0m__M\u001b[0m \u001b[1;33m!=\u001b[0m \u001b[0mother\u001b[0m\u001b[1;33m.\u001b[0m\u001b[0m__M\u001b[0m\u001b[1;33m:\u001b[0m\u001b[1;33m\u001b[0m\u001b[1;33m\u001b[0m\u001b[0m\n\u001b[1;32m---> 84\u001b[1;33m             \u001b[1;32mraise\u001b[0m \u001b[0mValueError\u001b[0m\u001b[1;33m(\u001b[0m\u001b[1;34m\"The dimensions must be same\"\u001b[0m\u001b[1;33m)\u001b[0m\u001b[1;33m\u001b[0m\u001b[1;33m\u001b[0m\u001b[0m\n\u001b[0m\u001b[0;32m     85\u001b[0m \u001b[1;33m\u001b[0m\u001b[0m\n\u001b[0;32m     86\u001b[0m         \u001b[0mresult\u001b[0m \u001b[1;33m=\u001b[0m \u001b[1;33m[\u001b[0m\u001b[1;33m]\u001b[0m\u001b[1;33m\u001b[0m\u001b[1;33m\u001b[0m\u001b[0m\n",
      "\u001b[1;31mValueError\u001b[0m: The dimensions must be same"
     ]
    }
   ],
   "source": [
    "# если невозможно\n",
    "a = NashNumPy([[1, 2, 3],\n",
    "              [4, 5, 6]])\n",
    "b = NashNumPy([6, 5, 4])\n",
    "\n",
    "c = a - b\n",
    "print(c)"
   ]
  },
  {
   "cell_type": "code",
   "execution_count": 57,
   "metadata": {},
   "outputs": [
    {
     "name": "stdout",
     "output_type": "stream",
     "text": [
      "6      10     12     \n",
      "12     10     6      \n",
      "\n"
     ]
    }
   ],
   "source": [
    "# неявное проебразование\n",
    "a = NashNumPy([[1, 2, 3],\n",
    "              [4, 5, 6]])\n",
    "\n",
    "c = a * [[6, 5, 4], [3, 2, 1]]\n",
    "print(c)"
   ]
  },
  {
   "cell_type": "markdown",
   "metadata": {},
   "source": [
    "# hstack"
   ]
  },
  {
   "cell_type": "code",
   "execution_count": 58,
   "metadata": {},
   "outputs": [
    {
     "name": "stdout",
     "output_type": "stream",
     "text": [
      "1      0      0      \n",
      "0      1      0      \n",
      "0      0      1      \n",
      "\n",
      "\n",
      "0      0      \n",
      "0      0      \n",
      "0      0      \n",
      "\n",
      "\n",
      "1      0      0      0      0      \n",
      "0      1      0      0      0      \n",
      "0      0      1      0      0      \n",
      "\n"
     ]
    }
   ],
   "source": [
    "a = NashNumPy()\n",
    "a.eye(3)\n",
    "b = NashNumPy()\n",
    "b.zeros((3, 2))\n",
    "\n",
    "print(a)\n",
    "print()\n",
    "print(b)\n",
    "print()\n",
    "\n",
    "print(a.hstack(b))"
   ]
  },
  {
   "cell_type": "code",
   "execution_count": 59,
   "metadata": {},
   "outputs": [
    {
     "name": "stdout",
     "output_type": "stream",
     "text": [
      "1      0      0      \n",
      "0      1      0      \n",
      "0      0      1      \n",
      "\n",
      "\n",
      "0      0      \n",
      "\n",
      "\n"
     ]
    },
    {
     "ename": "ValueError",
     "evalue": "First dimensions must be same",
     "output_type": "error",
     "traceback": [
      "\u001b[1;31m---------------------------------------------------------------------------\u001b[0m",
      "\u001b[1;31mValueError\u001b[0m                                Traceback (most recent call last)",
      "\u001b[1;32m~\\AppData\\Local\\Temp/ipykernel_8488/3059050297.py\u001b[0m in \u001b[0;36m<module>\u001b[1;34m\u001b[0m\n\u001b[0;32m     10\u001b[0m \u001b[0mprint\u001b[0m\u001b[1;33m(\u001b[0m\u001b[1;33m)\u001b[0m\u001b[1;33m\u001b[0m\u001b[1;33m\u001b[0m\u001b[0m\n\u001b[0;32m     11\u001b[0m \u001b[1;33m\u001b[0m\u001b[0m\n\u001b[1;32m---> 12\u001b[1;33m \u001b[0mprint\u001b[0m\u001b[1;33m(\u001b[0m\u001b[0ma\u001b[0m\u001b[1;33m.\u001b[0m\u001b[0mhstack\u001b[0m\u001b[1;33m(\u001b[0m\u001b[0mb\u001b[0m\u001b[1;33m)\u001b[0m\u001b[1;33m)\u001b[0m\u001b[1;33m\u001b[0m\u001b[1;33m\u001b[0m\u001b[0m\n\u001b[0m",
      "\u001b[1;32m~\\AppData\\Local\\Temp/ipykernel_8488/892376235.py\u001b[0m in \u001b[0;36mhstack\u001b[1;34m(self, other)\u001b[0m\n\u001b[0;32m    216\u001b[0m             \u001b[0mother\u001b[0m \u001b[1;33m=\u001b[0m \u001b[0mNashNumPy\u001b[0m\u001b[1;33m(\u001b[0m\u001b[0mother\u001b[0m\u001b[1;33m)\u001b[0m\u001b[1;33m\u001b[0m\u001b[1;33m\u001b[0m\u001b[0m\n\u001b[0;32m    217\u001b[0m         \u001b[1;32mif\u001b[0m \u001b[0mself\u001b[0m\u001b[1;33m.\u001b[0m\u001b[0m__N\u001b[0m \u001b[1;33m!=\u001b[0m \u001b[0mother\u001b[0m\u001b[1;33m.\u001b[0m\u001b[0m__N\u001b[0m\u001b[1;33m:\u001b[0m\u001b[1;33m\u001b[0m\u001b[1;33m\u001b[0m\u001b[0m\n\u001b[1;32m--> 218\u001b[1;33m             \u001b[1;32mraise\u001b[0m \u001b[0mValueError\u001b[0m\u001b[1;33m(\u001b[0m\u001b[1;34m\"First dimensions must be same\"\u001b[0m\u001b[1;33m)\u001b[0m\u001b[1;33m\u001b[0m\u001b[1;33m\u001b[0m\u001b[0m\n\u001b[0m\u001b[0;32m    219\u001b[0m         \u001b[0mresult\u001b[0m \u001b[1;33m=\u001b[0m\u001b[1;33m[\u001b[0m\u001b[1;33m]\u001b[0m\u001b[1;33m\u001b[0m\u001b[1;33m\u001b[0m\u001b[0m\n\u001b[0;32m    220\u001b[0m         \u001b[1;32mfor\u001b[0m \u001b[0mnum_row\u001b[0m \u001b[1;32min\u001b[0m \u001b[0mrange\u001b[0m\u001b[1;33m(\u001b[0m\u001b[0mself\u001b[0m\u001b[1;33m.\u001b[0m\u001b[0m__N\u001b[0m\u001b[1;33m)\u001b[0m\u001b[1;33m:\u001b[0m\u001b[1;33m\u001b[0m\u001b[1;33m\u001b[0m\u001b[0m\n",
      "\u001b[1;31mValueError\u001b[0m: First dimensions must be same"
     ]
    }
   ],
   "source": [
    "# исключение\n",
    "a = NashNumPy()\n",
    "a.eye(3)\n",
    "b = NashNumPy()\n",
    "b.zeros((1, 2))\n",
    "\n",
    "print(a)\n",
    "print()\n",
    "print(b)\n",
    "print()\n",
    "\n",
    "print(a.hstack(b))"
   ]
  },
  {
   "cell_type": "markdown",
   "metadata": {},
   "source": [
    "# vstack"
   ]
  },
  {
   "cell_type": "code",
   "execution_count": 60,
   "metadata": {},
   "outputs": [
    {
     "name": "stdout",
     "output_type": "stream",
     "text": [
      "1      0      0      \n",
      "0      1      0      \n",
      "0      0      1      \n",
      "\n",
      "\n",
      "0      0      0      \n",
      "0      0      0      \n",
      "\n",
      "\n",
      "1      0      0      \n",
      "0      1      0      \n",
      "0      0      1      \n",
      "0      0      0      \n",
      "0      0      0      \n",
      "\n"
     ]
    }
   ],
   "source": [
    "a = NashNumPy()\n",
    "a.eye(3)\n",
    "b = NashNumPy()\n",
    "b.zeros((2, 3))\n",
    "\n",
    "print(a)\n",
    "print()\n",
    "print(b)\n",
    "print()\n",
    "\n",
    "print(a.vstack(b))"
   ]
  },
  {
   "cell_type": "code",
   "execution_count": 61,
   "metadata": {},
   "outputs": [
    {
     "name": "stdout",
     "output_type": "stream",
     "text": [
      "1      0      0      \n",
      "0      1      0      \n",
      "0      0      1      \n",
      "\n",
      "\n",
      "0      0      \n",
      "0      0      \n",
      "\n",
      "\n"
     ]
    },
    {
     "ename": "ValueError",
     "evalue": "Second dimensions must be same",
     "output_type": "error",
     "traceback": [
      "\u001b[1;31m---------------------------------------------------------------------------\u001b[0m",
      "\u001b[1;31mValueError\u001b[0m                                Traceback (most recent call last)",
      "\u001b[1;32m~\\AppData\\Local\\Temp/ipykernel_8488/786045418.py\u001b[0m in \u001b[0;36m<module>\u001b[1;34m\u001b[0m\n\u001b[0;32m     11\u001b[0m \u001b[0mprint\u001b[0m\u001b[1;33m(\u001b[0m\u001b[1;33m)\u001b[0m\u001b[1;33m\u001b[0m\u001b[1;33m\u001b[0m\u001b[0m\n\u001b[0;32m     12\u001b[0m \u001b[1;33m\u001b[0m\u001b[0m\n\u001b[1;32m---> 13\u001b[1;33m \u001b[0mprint\u001b[0m\u001b[1;33m(\u001b[0m\u001b[0ma\u001b[0m\u001b[1;33m.\u001b[0m\u001b[0mvstack\u001b[0m\u001b[1;33m(\u001b[0m\u001b[0mb\u001b[0m\u001b[1;33m)\u001b[0m\u001b[1;33m)\u001b[0m\u001b[1;33m\u001b[0m\u001b[1;33m\u001b[0m\u001b[0m\n\u001b[0m",
      "\u001b[1;32m~\\AppData\\Local\\Temp/ipykernel_8488/892376235.py\u001b[0m in \u001b[0;36mvstack\u001b[1;34m(self, other)\u001b[0m\n\u001b[0;32m    237\u001b[0m             \u001b[0mother\u001b[0m \u001b[1;33m=\u001b[0m \u001b[0mNashNumPy\u001b[0m\u001b[1;33m(\u001b[0m\u001b[0mother\u001b[0m\u001b[1;33m)\u001b[0m\u001b[1;33m\u001b[0m\u001b[1;33m\u001b[0m\u001b[0m\n\u001b[0;32m    238\u001b[0m         \u001b[1;32mif\u001b[0m \u001b[0mself\u001b[0m\u001b[1;33m.\u001b[0m\u001b[0m__M\u001b[0m \u001b[1;33m!=\u001b[0m \u001b[0mother\u001b[0m\u001b[1;33m.\u001b[0m\u001b[0m__M\u001b[0m\u001b[1;33m:\u001b[0m\u001b[1;33m\u001b[0m\u001b[1;33m\u001b[0m\u001b[0m\n\u001b[1;32m--> 239\u001b[1;33m             \u001b[1;32mraise\u001b[0m \u001b[0mValueError\u001b[0m\u001b[1;33m(\u001b[0m\u001b[1;34m\"Second dimensions must be same\"\u001b[0m\u001b[1;33m)\u001b[0m\u001b[1;33m\u001b[0m\u001b[1;33m\u001b[0m\u001b[0m\n\u001b[0m\u001b[0;32m    240\u001b[0m         \u001b[0mresult\u001b[0m \u001b[1;33m=\u001b[0m\u001b[1;33m[\u001b[0m\u001b[1;33m]\u001b[0m\u001b[1;33m\u001b[0m\u001b[1;33m\u001b[0m\u001b[0m\n\u001b[0;32m    241\u001b[0m         \u001b[1;32mfor\u001b[0m \u001b[0mi\u001b[0m \u001b[1;32min\u001b[0m \u001b[0mself\u001b[0m\u001b[1;33m.\u001b[0m\u001b[0m__matrix\u001b[0m\u001b[1;33m:\u001b[0m\u001b[1;33m\u001b[0m\u001b[1;33m\u001b[0m\u001b[0m\n",
      "\u001b[1;31mValueError\u001b[0m: Second dimensions must be same"
     ]
    }
   ],
   "source": [
    "# исключение\n",
    "\n",
    "a = NashNumPy()\n",
    "a.eye(3)\n",
    "b = NashNumPy()\n",
    "b.zeros((2, 2))\n",
    "\n",
    "print(a)\n",
    "print()\n",
    "print(b)\n",
    "print()\n",
    "\n",
    "print(a.vstack(b))"
   ]
  },
  {
   "cell_type": "code",
   "execution_count": null,
   "metadata": {},
   "outputs": [],
   "source": []
  },
  {
   "cell_type": "code",
   "execution_count": null,
   "metadata": {},
   "outputs": [],
   "source": []
  }
 ],
 "metadata": {
  "kernelspec": {
   "display_name": "Python 3 (ipykernel)",
   "language": "python",
   "name": "python3"
  },
  "language_info": {
   "codemirror_mode": {
    "name": "ipython",
    "version": 3
   },
   "file_extension": ".py",
   "mimetype": "text/x-python",
   "name": "python",
   "nbconvert_exporter": "python",
   "pygments_lexer": "ipython3",
   "version": "3.9.7"
  }
 },
 "nbformat": 4,
 "nbformat_minor": 2
}
